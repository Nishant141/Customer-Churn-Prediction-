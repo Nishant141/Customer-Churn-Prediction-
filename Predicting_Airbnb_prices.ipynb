{
  "nbformat": 4,
  "nbformat_minor": 0,
  "metadata": {
    "colab": {
      "provenance": [],
      "authorship_tag": "ABX9TyNBsDvUWceUFIOVObkORSAT",
      "include_colab_link": true
    },
    "kernelspec": {
      "name": "python3",
      "display_name": "Python 3"
    },
    "language_info": {
      "name": "python"
    }
  },
  "cells": [
    {
      "cell_type": "markdown",
      "metadata": {
        "id": "view-in-github",
        "colab_type": "text"
      },
      "source": [
        "<a href=\"https://colab.research.google.com/github/Nishant141/Customer-Churn-Prediction-/blob/main/Predicting_Airbnb_prices.ipynb\" target=\"_parent\"><img src=\"https://colab.research.google.com/assets/colab-badge.svg\" alt=\"Open In Colab\"/></a>"
      ]
    },
    {
      "cell_type": "markdown",
      "metadata": {
        "id": "a40b5a27"
      },
      "source": [
        "# Task\n",
        "Create a tutorial on building a production-ready ML system for predicting Airbnb prices with auto-retraining, using the provided data. The tutorial should cover data loading and preprocessing, model training and evaluation, experiment tracking with MLflow and Wandb, building a Gradio interface for inference, containerizing the application with Docker, orchestrating with Docker Compose, and setting up auto-retraining."
      ]
    },
    {
      "cell_type": "markdown",
      "metadata": {
        "id": "97d1b1cd"
      },
      "source": [
        "## Load and preprocess data\n",
        "\n",
        "### Subtask:\n",
        "Load the Airbnb data, select relevant features, clean the data, and perform any necessary feature engineering.\n"
      ]
    },
    {
      "cell_type": "markdown",
      "metadata": {
        "id": "6ee60af6"
      },
      "source": [
        "**Reasoning**:\n",
        "Load the dataset from a specified path into a pandas DataFrame, select relevant features, handle missing values, and perform feature engineering.\n",
        "\n"
      ]
    },
    {
      "cell_type": "code",
      "metadata": {
        "colab": {
          "base_uri": "https://localhost:8080/",
          "height": 261
        },
        "id": "ae02b86b",
        "outputId": "62769900-5518-432e-c607-81d6adeadffe"
      },
      "source": [
        "import pandas as pd\n",
        "import numpy as np\n",
        "\n",
        "# Load the dataset\n",
        "try:\n",
        "    df = pd.read_csv('airbnb_listings.csv')\n",
        "except FileNotFoundError:\n",
        "    print(\"Error: airbnb_listings.csv not found. Please make sure the file is in the correct directory.\")\n",
        "    # Create a dummy dataframe for demonstration purposes if the file is not found\n",
        "    data = {\n",
        "        'price': np.random.randint(50, 500, 100),\n",
        "        'bedrooms': np.random.randint(1, 5, 100),\n",
        "        'bathrooms': np.random.randint(1, 3, 100),\n",
        "        'number_of_reviews': np.random.randint(0, 200, 100),\n",
        "        'review_scores_rating': np.random.uniform(3.0, 5.0, 100).round(2),\n",
        "        'latitude': np.random.uniform(34.0, 40.0, 100),\n",
        "        'longitude': np.random.uniform(-120.0, -70.0, 100),\n",
        "        'property_type': np.random.choice(['Apartment', 'House', 'Condo', 'Townhouse'], 100),\n",
        "        'room_type': np.random.choice(['Entire home/apt', 'Private room', 'Shared room'], 100),\n",
        "        'beds': np.random.randint(1, 6, 100)\n",
        "    }\n",
        "    df = pd.DataFrame(data)\n",
        "    df['bedrooms'] = df['bedrooms'].astype(float)\n",
        "    df['bathrooms'] = df['bathrooms'].astype(float)\n",
        "    df['beds'] = df['beds'].astype(float)\n",
        "    df.loc[df.sample(frac=0.1).index, 'bedrooms'] = np.nan\n",
        "    df.loc[df.sample(frac=0.05).index, 'bathrooms'] = np.nan\n",
        "    df.loc[df.sample(frac=0.02).index, 'review_scores_rating'] = np.nan\n",
        "    df.loc[df.sample(frac=0.01).index, 'beds'] = np.nan\n",
        "\n",
        "\n",
        "# Select relevant features\n",
        "features = ['price', 'bedrooms', 'bathrooms', 'number_of_reviews', 'review_scores_rating', 'latitude', 'longitude', 'property_type', 'room_type', 'beds']\n",
        "df = df[features]\n",
        "\n",
        "# Handle missing values\n",
        "# Impute missing numerical values with the median\n",
        "for col in ['bedrooms', 'bathrooms', 'review_scores_rating', 'beds']:\n",
        "    df[col].fillna(df[col].median(), inplace=True)\n",
        "\n",
        "# Feature Engineering\n",
        "# Create a new feature for location by combining latitude and longitude (simple approach)\n",
        "df['location'] = df['latitude'].astype(str) + ',' + df['longitude'].astype(str)\n",
        "\n",
        "# Encode categorical variables using one-hot encoding\n",
        "categorical_features = ['property_type', 'room_type']\n",
        "df = pd.get_dummies(df, columns=categorical_features, drop_first=True)\n",
        "\n",
        "# Display the first few rows of the processed dataframe\n",
        "display(df.head())"
      ],
      "execution_count": 18,
      "outputs": [
        {
          "output_type": "stream",
          "name": "stdout",
          "text": [
            "Error: airbnb_listings.csv not found. Please make sure the file is in the correct directory.\n"
          ]
        },
        {
          "output_type": "display_data",
          "data": {
            "text/plain": [
              "   price  bedrooms  bathrooms  number_of_reviews  review_scores_rating  \\\n",
              "0    109       4.0        2.0                 16                  3.66   \n",
              "1    106       1.0        2.0                 35                  3.69   \n",
              "2     52       3.0        2.0                199                  4.99   \n",
              "3    298       2.0        1.0                 77                  4.59   \n",
              "4    138       1.0        2.0                152                  4.00   \n",
              "\n",
              "    latitude   longitude  beds                                location  \\\n",
              "0  34.449588  -82.982443   2.0      34.449588469227,-82.98244317868449   \n",
              "1  34.752108  -76.968022   1.0   34.752107967046804,-76.96802169838698   \n",
              "2  34.658960  -86.979460   2.0    34.65895952912736,-86.97946019394158   \n",
              "3  36.246926  -81.474279   4.0    36.24692604367778,-81.47427877240193   \n",
              "4  39.196292 -117.242139   1.0  39.196292072630804,-117.24213898562071   \n",
              "\n",
              "   property_type_Condo  property_type_House  property_type_Townhouse  \\\n",
              "0                False                 True                    False   \n",
              "1                 True                False                    False   \n",
              "2                 True                False                    False   \n",
              "3                False                False                     True   \n",
              "4                False                 True                    False   \n",
              "\n",
              "   room_type_Private room  room_type_Shared room  \n",
              "0                    True                  False  \n",
              "1                    True                  False  \n",
              "2                   False                  False  \n",
              "3                   False                   True  \n",
              "4                   False                   True  "
            ],
            "text/html": [
              "\n",
              "  <div id=\"df-68b4262b-b8df-4b10-bd90-6dcb145efc8f\" class=\"colab-df-container\">\n",
              "    <div>\n",
              "<style scoped>\n",
              "    .dataframe tbody tr th:only-of-type {\n",
              "        vertical-align: middle;\n",
              "    }\n",
              "\n",
              "    .dataframe tbody tr th {\n",
              "        vertical-align: top;\n",
              "    }\n",
              "\n",
              "    .dataframe thead th {\n",
              "        text-align: right;\n",
              "    }\n",
              "</style>\n",
              "<table border=\"1\" class=\"dataframe\">\n",
              "  <thead>\n",
              "    <tr style=\"text-align: right;\">\n",
              "      <th></th>\n",
              "      <th>price</th>\n",
              "      <th>bedrooms</th>\n",
              "      <th>bathrooms</th>\n",
              "      <th>number_of_reviews</th>\n",
              "      <th>review_scores_rating</th>\n",
              "      <th>latitude</th>\n",
              "      <th>longitude</th>\n",
              "      <th>beds</th>\n",
              "      <th>location</th>\n",
              "      <th>property_type_Condo</th>\n",
              "      <th>property_type_House</th>\n",
              "      <th>property_type_Townhouse</th>\n",
              "      <th>room_type_Private room</th>\n",
              "      <th>room_type_Shared room</th>\n",
              "    </tr>\n",
              "  </thead>\n",
              "  <tbody>\n",
              "    <tr>\n",
              "      <th>0</th>\n",
              "      <td>109</td>\n",
              "      <td>4.0</td>\n",
              "      <td>2.0</td>\n",
              "      <td>16</td>\n",
              "      <td>3.66</td>\n",
              "      <td>34.449588</td>\n",
              "      <td>-82.982443</td>\n",
              "      <td>2.0</td>\n",
              "      <td>34.449588469227,-82.98244317868449</td>\n",
              "      <td>False</td>\n",
              "      <td>True</td>\n",
              "      <td>False</td>\n",
              "      <td>True</td>\n",
              "      <td>False</td>\n",
              "    </tr>\n",
              "    <tr>\n",
              "      <th>1</th>\n",
              "      <td>106</td>\n",
              "      <td>1.0</td>\n",
              "      <td>2.0</td>\n",
              "      <td>35</td>\n",
              "      <td>3.69</td>\n",
              "      <td>34.752108</td>\n",
              "      <td>-76.968022</td>\n",
              "      <td>1.0</td>\n",
              "      <td>34.752107967046804,-76.96802169838698</td>\n",
              "      <td>True</td>\n",
              "      <td>False</td>\n",
              "      <td>False</td>\n",
              "      <td>True</td>\n",
              "      <td>False</td>\n",
              "    </tr>\n",
              "    <tr>\n",
              "      <th>2</th>\n",
              "      <td>52</td>\n",
              "      <td>3.0</td>\n",
              "      <td>2.0</td>\n",
              "      <td>199</td>\n",
              "      <td>4.99</td>\n",
              "      <td>34.658960</td>\n",
              "      <td>-86.979460</td>\n",
              "      <td>2.0</td>\n",
              "      <td>34.65895952912736,-86.97946019394158</td>\n",
              "      <td>True</td>\n",
              "      <td>False</td>\n",
              "      <td>False</td>\n",
              "      <td>False</td>\n",
              "      <td>False</td>\n",
              "    </tr>\n",
              "    <tr>\n",
              "      <th>3</th>\n",
              "      <td>298</td>\n",
              "      <td>2.0</td>\n",
              "      <td>1.0</td>\n",
              "      <td>77</td>\n",
              "      <td>4.59</td>\n",
              "      <td>36.246926</td>\n",
              "      <td>-81.474279</td>\n",
              "      <td>4.0</td>\n",
              "      <td>36.24692604367778,-81.47427877240193</td>\n",
              "      <td>False</td>\n",
              "      <td>False</td>\n",
              "      <td>True</td>\n",
              "      <td>False</td>\n",
              "      <td>True</td>\n",
              "    </tr>\n",
              "    <tr>\n",
              "      <th>4</th>\n",
              "      <td>138</td>\n",
              "      <td>1.0</td>\n",
              "      <td>2.0</td>\n",
              "      <td>152</td>\n",
              "      <td>4.00</td>\n",
              "      <td>39.196292</td>\n",
              "      <td>-117.242139</td>\n",
              "      <td>1.0</td>\n",
              "      <td>39.196292072630804,-117.24213898562071</td>\n",
              "      <td>False</td>\n",
              "      <td>True</td>\n",
              "      <td>False</td>\n",
              "      <td>False</td>\n",
              "      <td>True</td>\n",
              "    </tr>\n",
              "  </tbody>\n",
              "</table>\n",
              "</div>\n",
              "    <div class=\"colab-df-buttons\">\n",
              "\n",
              "  <div class=\"colab-df-container\">\n",
              "    <button class=\"colab-df-convert\" onclick=\"convertToInteractive('df-68b4262b-b8df-4b10-bd90-6dcb145efc8f')\"\n",
              "            title=\"Convert this dataframe to an interactive table.\"\n",
              "            style=\"display:none;\">\n",
              "\n",
              "  <svg xmlns=\"http://www.w3.org/2000/svg\" height=\"24px\" viewBox=\"0 -960 960 960\">\n",
              "    <path d=\"M120-120v-720h720v720H120Zm60-500h600v-160H180v160Zm220 220h160v-160H400v160Zm0 220h160v-160H400v160ZM180-400h160v-160H180v160Zm440 0h160v-160H620v160ZM180-180h160v-160H180v160Zm440 0h160v-160H620v160Z\"/>\n",
              "  </svg>\n",
              "    </button>\n",
              "\n",
              "  <style>\n",
              "    .colab-df-container {\n",
              "      display:flex;\n",
              "      gap: 12px;\n",
              "    }\n",
              "\n",
              "    .colab-df-convert {\n",
              "      background-color: #E8F0FE;\n",
              "      border: none;\n",
              "      border-radius: 50%;\n",
              "      cursor: pointer;\n",
              "      display: none;\n",
              "      fill: #1967D2;\n",
              "      height: 32px;\n",
              "      padding: 0 0 0 0;\n",
              "      width: 32px;\n",
              "    }\n",
              "\n",
              "    .colab-df-convert:hover {\n",
              "      background-color: #E2EBFA;\n",
              "      box-shadow: 0px 1px 2px rgba(60, 64, 67, 0.3), 0px 1px 3px 1px rgba(60, 64, 67, 0.15);\n",
              "      fill: #174EA6;\n",
              "    }\n",
              "\n",
              "    .colab-df-buttons div {\n",
              "      margin-bottom: 4px;\n",
              "    }\n",
              "\n",
              "    [theme=dark] .colab-df-convert {\n",
              "      background-color: #3B4455;\n",
              "      fill: #D2E3FC;\n",
              "    }\n",
              "\n",
              "    [theme=dark] .colab-df-convert:hover {\n",
              "      background-color: #434B5C;\n",
              "      box-shadow: 0px 1px 3px 1px rgba(0, 0, 0, 0.15);\n",
              "      filter: drop-shadow(0px 1px 2px rgba(0, 0, 0, 0.3));\n",
              "      fill: #FFFFFF;\n",
              "    }\n",
              "  </style>\n",
              "\n",
              "    <script>\n",
              "      const buttonEl =\n",
              "        document.querySelector('#df-68b4262b-b8df-4b10-bd90-6dcb145efc8f button.colab-df-convert');\n",
              "      buttonEl.style.display =\n",
              "        google.colab.kernel.accessAllowed ? 'block' : 'none';\n",
              "\n",
              "      async function convertToInteractive(key) {\n",
              "        const element = document.querySelector('#df-68b4262b-b8df-4b10-bd90-6dcb145efc8f');\n",
              "        const dataTable =\n",
              "          await google.colab.kernel.invokeFunction('convertToInteractive',\n",
              "                                                    [key], {});\n",
              "        if (!dataTable) return;\n",
              "\n",
              "        const docLinkHtml = 'Like what you see? Visit the ' +\n",
              "          '<a target=\"_blank\" href=https://colab.research.google.com/notebooks/data_table.ipynb>data table notebook</a>'\n",
              "          + ' to learn more about interactive tables.';\n",
              "        element.innerHTML = '';\n",
              "        dataTable['output_type'] = 'display_data';\n",
              "        await google.colab.output.renderOutput(dataTable, element);\n",
              "        const docLink = document.createElement('div');\n",
              "        docLink.innerHTML = docLinkHtml;\n",
              "        element.appendChild(docLink);\n",
              "      }\n",
              "    </script>\n",
              "  </div>\n",
              "\n",
              "\n",
              "    <div id=\"df-b92fec33-2e96-4472-82b4-5a2bb8de8ec4\">\n",
              "      <button class=\"colab-df-quickchart\" onclick=\"quickchart('df-b92fec33-2e96-4472-82b4-5a2bb8de8ec4')\"\n",
              "                title=\"Suggest charts\"\n",
              "                style=\"display:none;\">\n",
              "\n",
              "<svg xmlns=\"http://www.w3.org/2000/svg\" height=\"24px\"viewBox=\"0 0 24 24\"\n",
              "     width=\"24px\">\n",
              "    <g>\n",
              "        <path d=\"M19 3H5c-1.1 0-2 .9-2 2v14c0 1.1.9 2 2 2h14c1.1 0 2-.9 2-2V5c0-1.1-.9-2-2-2zM9 17H7v-7h2v7zm4 0h-2V7h2v10zm4 0h-2v-4h2v4z\"/>\n",
              "    </g>\n",
              "</svg>\n",
              "      </button>\n",
              "\n",
              "<style>\n",
              "  .colab-df-quickchart {\n",
              "      --bg-color: #E8F0FE;\n",
              "      --fill-color: #1967D2;\n",
              "      --hover-bg-color: #E2EBFA;\n",
              "      --hover-fill-color: #174EA6;\n",
              "      --disabled-fill-color: #AAA;\n",
              "      --disabled-bg-color: #DDD;\n",
              "  }\n",
              "\n",
              "  [theme=dark] .colab-df-quickchart {\n",
              "      --bg-color: #3B4455;\n",
              "      --fill-color: #D2E3FC;\n",
              "      --hover-bg-color: #434B5C;\n",
              "      --hover-fill-color: #FFFFFF;\n",
              "      --disabled-bg-color: #3B4455;\n",
              "      --disabled-fill-color: #666;\n",
              "  }\n",
              "\n",
              "  .colab-df-quickchart {\n",
              "    background-color: var(--bg-color);\n",
              "    border: none;\n",
              "    border-radius: 50%;\n",
              "    cursor: pointer;\n",
              "    display: none;\n",
              "    fill: var(--fill-color);\n",
              "    height: 32px;\n",
              "    padding: 0;\n",
              "    width: 32px;\n",
              "  }\n",
              "\n",
              "  .colab-df-quickchart:hover {\n",
              "    background-color: var(--hover-bg-color);\n",
              "    box-shadow: 0 1px 2px rgba(60, 64, 67, 0.3), 0 1px 3px 1px rgba(60, 64, 67, 0.15);\n",
              "    fill: var(--button-hover-fill-color);\n",
              "  }\n",
              "\n",
              "  .colab-df-quickchart-complete:disabled,\n",
              "  .colab-df-quickchart-complete:disabled:hover {\n",
              "    background-color: var(--disabled-bg-color);\n",
              "    fill: var(--disabled-fill-color);\n",
              "    box-shadow: none;\n",
              "  }\n",
              "\n",
              "  .colab-df-spinner {\n",
              "    border: 2px solid var(--fill-color);\n",
              "    border-color: transparent;\n",
              "    border-bottom-color: var(--fill-color);\n",
              "    animation:\n",
              "      spin 1s steps(1) infinite;\n",
              "  }\n",
              "\n",
              "  @keyframes spin {\n",
              "    0% {\n",
              "      border-color: transparent;\n",
              "      border-bottom-color: var(--fill-color);\n",
              "      border-left-color: var(--fill-color);\n",
              "    }\n",
              "    20% {\n",
              "      border-color: transparent;\n",
              "      border-left-color: var(--fill-color);\n",
              "      border-top-color: var(--fill-color);\n",
              "    }\n",
              "    30% {\n",
              "      border-color: transparent;\n",
              "      border-left-color: var(--fill-color);\n",
              "      border-top-color: var(--fill-color);\n",
              "      border-right-color: var(--fill-color);\n",
              "    }\n",
              "    40% {\n",
              "      border-color: transparent;\n",
              "      border-right-color: var(--fill-color);\n",
              "      border-top-color: var(--fill-color);\n",
              "    }\n",
              "    60% {\n",
              "      border-color: transparent;\n",
              "      border-right-color: var(--fill-color);\n",
              "    }\n",
              "    80% {\n",
              "      border-color: transparent;\n",
              "      border-right-color: var(--fill-color);\n",
              "      border-bottom-color: var(--fill-color);\n",
              "    }\n",
              "    90% {\n",
              "      border-color: transparent;\n",
              "      border-bottom-color: var(--fill-color);\n",
              "    }\n",
              "  }\n",
              "</style>\n",
              "\n",
              "      <script>\n",
              "        async function quickchart(key) {\n",
              "          const quickchartButtonEl =\n",
              "            document.querySelector('#' + key + ' button');\n",
              "          quickchartButtonEl.disabled = true;  // To prevent multiple clicks.\n",
              "          quickchartButtonEl.classList.add('colab-df-spinner');\n",
              "          try {\n",
              "            const charts = await google.colab.kernel.invokeFunction(\n",
              "                'suggestCharts', [key], {});\n",
              "          } catch (error) {\n",
              "            console.error('Error during call to suggestCharts:', error);\n",
              "          }\n",
              "          quickchartButtonEl.classList.remove('colab-df-spinner');\n",
              "          quickchartButtonEl.classList.add('colab-df-quickchart-complete');\n",
              "        }\n",
              "        (() => {\n",
              "          let quickchartButtonEl =\n",
              "            document.querySelector('#df-b92fec33-2e96-4472-82b4-5a2bb8de8ec4 button');\n",
              "          quickchartButtonEl.style.display =\n",
              "            google.colab.kernel.accessAllowed ? 'block' : 'none';\n",
              "        })();\n",
              "      </script>\n",
              "    </div>\n",
              "\n",
              "    </div>\n",
              "  </div>\n"
            ],
            "application/vnd.google.colaboratory.intrinsic+json": {
              "type": "dataframe",
              "summary": "{\n  \"name\": \"display(df\",\n  \"rows\": 5,\n  \"fields\": [\n    {\n      \"column\": \"price\",\n      \"properties\": {\n        \"dtype\": \"number\",\n        \"std\": 93,\n        \"min\": 52,\n        \"max\": 298,\n        \"num_unique_values\": 5,\n        \"samples\": [\n          106,\n          138,\n          52\n        ],\n        \"semantic_type\": \"\",\n        \"description\": \"\"\n      }\n    },\n    {\n      \"column\": \"bedrooms\",\n      \"properties\": {\n        \"dtype\": \"number\",\n        \"std\": 1.3038404810405297,\n        \"min\": 1.0,\n        \"max\": 4.0,\n        \"num_unique_values\": 4,\n        \"samples\": [\n          1.0,\n          2.0,\n          4.0\n        ],\n        \"semantic_type\": \"\",\n        \"description\": \"\"\n      }\n    },\n    {\n      \"column\": \"bathrooms\",\n      \"properties\": {\n        \"dtype\": \"number\",\n        \"std\": 0.4472135954999579,\n        \"min\": 1.0,\n        \"max\": 2.0,\n        \"num_unique_values\": 2,\n        \"samples\": [\n          1.0,\n          2.0\n        ],\n        \"semantic_type\": \"\",\n        \"description\": \"\"\n      }\n    },\n    {\n      \"column\": \"number_of_reviews\",\n      \"properties\": {\n        \"dtype\": \"number\",\n        \"std\": 77,\n        \"min\": 16,\n        \"max\": 199,\n        \"num_unique_values\": 5,\n        \"samples\": [\n          35,\n          152\n        ],\n        \"semantic_type\": \"\",\n        \"description\": \"\"\n      }\n    },\n    {\n      \"column\": \"review_scores_rating\",\n      \"properties\": {\n        \"dtype\": \"number\",\n        \"std\": 0.5845767699797864,\n        \"min\": 3.66,\n        \"max\": 4.99,\n        \"num_unique_values\": 5,\n        \"samples\": [\n          3.69,\n          4.0\n        ],\n        \"semantic_type\": \"\",\n        \"description\": \"\"\n      }\n    },\n    {\n      \"column\": \"latitude\",\n      \"properties\": {\n        \"dtype\": \"number\",\n        \"std\": 1.9962300225027951,\n        \"min\": 34.449588469227,\n        \"max\": 39.196292072630804,\n        \"num_unique_values\": 5,\n        \"samples\": [\n          34.752107967046804,\n          39.196292072630804\n        ],\n        \"semantic_type\": \"\",\n        \"description\": \"\"\n      }\n    },\n    {\n      \"column\": \"longitude\",\n      \"properties\": {\n        \"dtype\": \"number\",\n        \"std\": 16.11857170877915,\n        \"min\": -117.24213898562071,\n        \"max\": -76.96802169838698,\n        \"num_unique_values\": 5,\n        \"samples\": [\n          -76.96802169838698,\n          -117.24213898562071\n        ],\n        \"semantic_type\": \"\",\n        \"description\": \"\"\n      }\n    },\n    {\n      \"column\": \"beds\",\n      \"properties\": {\n        \"dtype\": \"number\",\n        \"std\": 1.224744871391589,\n        \"min\": 1.0,\n        \"max\": 4.0,\n        \"num_unique_values\": 3,\n        \"samples\": [\n          2.0,\n          1.0\n        ],\n        \"semantic_type\": \"\",\n        \"description\": \"\"\n      }\n    },\n    {\n      \"column\": \"location\",\n      \"properties\": {\n        \"dtype\": \"string\",\n        \"num_unique_values\": 5,\n        \"samples\": [\n          \"34.752107967046804,-76.96802169838698\",\n          \"39.196292072630804,-117.24213898562071\"\n        ],\n        \"semantic_type\": \"\",\n        \"description\": \"\"\n      }\n    },\n    {\n      \"column\": \"property_type_Condo\",\n      \"properties\": {\n        \"dtype\": \"boolean\",\n        \"num_unique_values\": 2,\n        \"samples\": [\n          true,\n          false\n        ],\n        \"semantic_type\": \"\",\n        \"description\": \"\"\n      }\n    },\n    {\n      \"column\": \"property_type_House\",\n      \"properties\": {\n        \"dtype\": \"boolean\",\n        \"num_unique_values\": 2,\n        \"samples\": [\n          false,\n          true\n        ],\n        \"semantic_type\": \"\",\n        \"description\": \"\"\n      }\n    },\n    {\n      \"column\": \"property_type_Townhouse\",\n      \"properties\": {\n        \"dtype\": \"boolean\",\n        \"num_unique_values\": 2,\n        \"samples\": [\n          true,\n          false\n        ],\n        \"semantic_type\": \"\",\n        \"description\": \"\"\n      }\n    },\n    {\n      \"column\": \"room_type_Private room\",\n      \"properties\": {\n        \"dtype\": \"boolean\",\n        \"num_unique_values\": 2,\n        \"samples\": [\n          false,\n          true\n        ],\n        \"semantic_type\": \"\",\n        \"description\": \"\"\n      }\n    },\n    {\n      \"column\": \"room_type_Shared room\",\n      \"properties\": {\n        \"dtype\": \"boolean\",\n        \"num_unique_values\": 2,\n        \"samples\": [\n          true,\n          false\n        ],\n        \"semantic_type\": \"\",\n        \"description\": \"\"\n      }\n    }\n  ]\n}"
            }
          },
          "metadata": {}
        }
      ]
    },
    {
      "cell_type": "markdown",
      "metadata": {
        "id": "7b288428"
      },
      "source": [
        "## Train the model\n",
        "\n",
        "### Subtask:\n",
        "Train a machine learning model to predict Airbnb prices.\n"
      ]
    },
    {
      "cell_type": "markdown",
      "metadata": {
        "id": "f80ee242"
      },
      "source": [
        "**Reasoning**:\n",
        "Separate features and target, split data into training and testing sets, import and instantiate a regression model, and train the model.\n",
        "\n"
      ]
    },
    {
      "cell_type": "markdown",
      "metadata": {
        "id": "7f9fd8e9"
      },
      "source": [
        "**Reasoning**:\n",
        "The error indicates that the 'location' column, which is a string, is still present in the features and cannot be converted to a float for model training. I need to drop the 'location' column from the features.\n",
        "\n"
      ]
    },
    {
      "cell_type": "code",
      "metadata": {
        "colab": {
          "base_uri": "https://localhost:8080/",
          "height": 80
        },
        "id": "DNs9Gz84Q_Yq",
        "outputId": "3aeaef43-2765-4342-e48f-0387dc5ce1c3"
      },
      "source": [
        "# Drop the 'location' column from the features as it is a string and cannot be used for training\n",
        "X = X.drop('location', axis=1)\n",
        "\n",
        "# Split data into training and testing sets again after dropping the column\n",
        "X_train, X_test, y_train, y_test = train_test_split(X, y, test_size=0.2, random_state=42)\n",
        "\n",
        "# Train the model again\n",
        "model.fit(X_train, y_train)"
      ],
      "execution_count": 20,
      "outputs": [
        {
          "output_type": "execute_result",
          "data": {
            "text/plain": [
              "RandomForestRegressor(random_state=42)"
            ],
            "text/html": [
              "<style>#sk-container-id-1 {\n",
              "  /* Definition of color scheme common for light and dark mode */\n",
              "  --sklearn-color-text: #000;\n",
              "  --sklearn-color-text-muted: #666;\n",
              "  --sklearn-color-line: gray;\n",
              "  /* Definition of color scheme for unfitted estimators */\n",
              "  --sklearn-color-unfitted-level-0: #fff5e6;\n",
              "  --sklearn-color-unfitted-level-1: #f6e4d2;\n",
              "  --sklearn-color-unfitted-level-2: #ffe0b3;\n",
              "  --sklearn-color-unfitted-level-3: chocolate;\n",
              "  /* Definition of color scheme for fitted estimators */\n",
              "  --sklearn-color-fitted-level-0: #f0f8ff;\n",
              "  --sklearn-color-fitted-level-1: #d4ebff;\n",
              "  --sklearn-color-fitted-level-2: #b3dbfd;\n",
              "  --sklearn-color-fitted-level-3: cornflowerblue;\n",
              "\n",
              "  /* Specific color for light theme */\n",
              "  --sklearn-color-text-on-default-background: var(--sg-text-color, var(--theme-code-foreground, var(--jp-content-font-color1, black)));\n",
              "  --sklearn-color-background: var(--sg-background-color, var(--theme-background, var(--jp-layout-color0, white)));\n",
              "  --sklearn-color-border-box: var(--sg-text-color, var(--theme-code-foreground, var(--jp-content-font-color1, black)));\n",
              "  --sklearn-color-icon: #696969;\n",
              "\n",
              "  @media (prefers-color-scheme: dark) {\n",
              "    /* Redefinition of color scheme for dark theme */\n",
              "    --sklearn-color-text-on-default-background: var(--sg-text-color, var(--theme-code-foreground, var(--jp-content-font-color1, white)));\n",
              "    --sklearn-color-background: var(--sg-background-color, var(--theme-background, var(--jp-layout-color0, #111)));\n",
              "    --sklearn-color-border-box: var(--sg-text-color, var(--theme-code-foreground, var(--jp-content-font-color1, white)));\n",
              "    --sklearn-color-icon: #878787;\n",
              "  }\n",
              "}\n",
              "\n",
              "#sk-container-id-1 {\n",
              "  color: var(--sklearn-color-text);\n",
              "}\n",
              "\n",
              "#sk-container-id-1 pre {\n",
              "  padding: 0;\n",
              "}\n",
              "\n",
              "#sk-container-id-1 input.sk-hidden--visually {\n",
              "  border: 0;\n",
              "  clip: rect(1px 1px 1px 1px);\n",
              "  clip: rect(1px, 1px, 1px, 1px);\n",
              "  height: 1px;\n",
              "  margin: -1px;\n",
              "  overflow: hidden;\n",
              "  padding: 0;\n",
              "  position: absolute;\n",
              "  width: 1px;\n",
              "}\n",
              "\n",
              "#sk-container-id-1 div.sk-dashed-wrapped {\n",
              "  border: 1px dashed var(--sklearn-color-line);\n",
              "  margin: 0 0.4em 0.5em 0.4em;\n",
              "  box-sizing: border-box;\n",
              "  padding-bottom: 0.4em;\n",
              "  background-color: var(--sklearn-color-background);\n",
              "}\n",
              "\n",
              "#sk-container-id-1 div.sk-container {\n",
              "  /* jupyter's `normalize.less` sets `[hidden] { display: none; }`\n",
              "     but bootstrap.min.css set `[hidden] { display: none !important; }`\n",
              "     so we also need the `!important` here to be able to override the\n",
              "     default hidden behavior on the sphinx rendered scikit-learn.org.\n",
              "     See: https://github.com/scikit-learn/scikit-learn/issues/21755 */\n",
              "  display: inline-block !important;\n",
              "  position: relative;\n",
              "}\n",
              "\n",
              "#sk-container-id-1 div.sk-text-repr-fallback {\n",
              "  display: none;\n",
              "}\n",
              "\n",
              "div.sk-parallel-item,\n",
              "div.sk-serial,\n",
              "div.sk-item {\n",
              "  /* draw centered vertical line to link estimators */\n",
              "  background-image: linear-gradient(var(--sklearn-color-text-on-default-background), var(--sklearn-color-text-on-default-background));\n",
              "  background-size: 2px 100%;\n",
              "  background-repeat: no-repeat;\n",
              "  background-position: center center;\n",
              "}\n",
              "\n",
              "/* Parallel-specific style estimator block */\n",
              "\n",
              "#sk-container-id-1 div.sk-parallel-item::after {\n",
              "  content: \"\";\n",
              "  width: 100%;\n",
              "  border-bottom: 2px solid var(--sklearn-color-text-on-default-background);\n",
              "  flex-grow: 1;\n",
              "}\n",
              "\n",
              "#sk-container-id-1 div.sk-parallel {\n",
              "  display: flex;\n",
              "  align-items: stretch;\n",
              "  justify-content: center;\n",
              "  background-color: var(--sklearn-color-background);\n",
              "  position: relative;\n",
              "}\n",
              "\n",
              "#sk-container-id-1 div.sk-parallel-item {\n",
              "  display: flex;\n",
              "  flex-direction: column;\n",
              "}\n",
              "\n",
              "#sk-container-id-1 div.sk-parallel-item:first-child::after {\n",
              "  align-self: flex-end;\n",
              "  width: 50%;\n",
              "}\n",
              "\n",
              "#sk-container-id-1 div.sk-parallel-item:last-child::after {\n",
              "  align-self: flex-start;\n",
              "  width: 50%;\n",
              "}\n",
              "\n",
              "#sk-container-id-1 div.sk-parallel-item:only-child::after {\n",
              "  width: 0;\n",
              "}\n",
              "\n",
              "/* Serial-specific style estimator block */\n",
              "\n",
              "#sk-container-id-1 div.sk-serial {\n",
              "  display: flex;\n",
              "  flex-direction: column;\n",
              "  align-items: center;\n",
              "  background-color: var(--sklearn-color-background);\n",
              "  padding-right: 1em;\n",
              "  padding-left: 1em;\n",
              "}\n",
              "\n",
              "\n",
              "/* Toggleable style: style used for estimator/Pipeline/ColumnTransformer box that is\n",
              "clickable and can be expanded/collapsed.\n",
              "- Pipeline and ColumnTransformer use this feature and define the default style\n",
              "- Estimators will overwrite some part of the style using the `sk-estimator` class\n",
              "*/\n",
              "\n",
              "/* Pipeline and ColumnTransformer style (default) */\n",
              "\n",
              "#sk-container-id-1 div.sk-toggleable {\n",
              "  /* Default theme specific background. It is overwritten whether we have a\n",
              "  specific estimator or a Pipeline/ColumnTransformer */\n",
              "  background-color: var(--sklearn-color-background);\n",
              "}\n",
              "\n",
              "/* Toggleable label */\n",
              "#sk-container-id-1 label.sk-toggleable__label {\n",
              "  cursor: pointer;\n",
              "  display: flex;\n",
              "  width: 100%;\n",
              "  margin-bottom: 0;\n",
              "  padding: 0.5em;\n",
              "  box-sizing: border-box;\n",
              "  text-align: center;\n",
              "  align-items: start;\n",
              "  justify-content: space-between;\n",
              "  gap: 0.5em;\n",
              "}\n",
              "\n",
              "#sk-container-id-1 label.sk-toggleable__label .caption {\n",
              "  font-size: 0.6rem;\n",
              "  font-weight: lighter;\n",
              "  color: var(--sklearn-color-text-muted);\n",
              "}\n",
              "\n",
              "#sk-container-id-1 label.sk-toggleable__label-arrow:before {\n",
              "  /* Arrow on the left of the label */\n",
              "  content: \"▸\";\n",
              "  float: left;\n",
              "  margin-right: 0.25em;\n",
              "  color: var(--sklearn-color-icon);\n",
              "}\n",
              "\n",
              "#sk-container-id-1 label.sk-toggleable__label-arrow:hover:before {\n",
              "  color: var(--sklearn-color-text);\n",
              "}\n",
              "\n",
              "/* Toggleable content - dropdown */\n",
              "\n",
              "#sk-container-id-1 div.sk-toggleable__content {\n",
              "  max-height: 0;\n",
              "  max-width: 0;\n",
              "  overflow: hidden;\n",
              "  text-align: left;\n",
              "  /* unfitted */\n",
              "  background-color: var(--sklearn-color-unfitted-level-0);\n",
              "}\n",
              "\n",
              "#sk-container-id-1 div.sk-toggleable__content.fitted {\n",
              "  /* fitted */\n",
              "  background-color: var(--sklearn-color-fitted-level-0);\n",
              "}\n",
              "\n",
              "#sk-container-id-1 div.sk-toggleable__content pre {\n",
              "  margin: 0.2em;\n",
              "  border-radius: 0.25em;\n",
              "  color: var(--sklearn-color-text);\n",
              "  /* unfitted */\n",
              "  background-color: var(--sklearn-color-unfitted-level-0);\n",
              "}\n",
              "\n",
              "#sk-container-id-1 div.sk-toggleable__content.fitted pre {\n",
              "  /* unfitted */\n",
              "  background-color: var(--sklearn-color-fitted-level-0);\n",
              "}\n",
              "\n",
              "#sk-container-id-1 input.sk-toggleable__control:checked~div.sk-toggleable__content {\n",
              "  /* Expand drop-down */\n",
              "  max-height: 200px;\n",
              "  max-width: 100%;\n",
              "  overflow: auto;\n",
              "}\n",
              "\n",
              "#sk-container-id-1 input.sk-toggleable__control:checked~label.sk-toggleable__label-arrow:before {\n",
              "  content: \"▾\";\n",
              "}\n",
              "\n",
              "/* Pipeline/ColumnTransformer-specific style */\n",
              "\n",
              "#sk-container-id-1 div.sk-label input.sk-toggleable__control:checked~label.sk-toggleable__label {\n",
              "  color: var(--sklearn-color-text);\n",
              "  background-color: var(--sklearn-color-unfitted-level-2);\n",
              "}\n",
              "\n",
              "#sk-container-id-1 div.sk-label.fitted input.sk-toggleable__control:checked~label.sk-toggleable__label {\n",
              "  background-color: var(--sklearn-color-fitted-level-2);\n",
              "}\n",
              "\n",
              "/* Estimator-specific style */\n",
              "\n",
              "/* Colorize estimator box */\n",
              "#sk-container-id-1 div.sk-estimator input.sk-toggleable__control:checked~label.sk-toggleable__label {\n",
              "  /* unfitted */\n",
              "  background-color: var(--sklearn-color-unfitted-level-2);\n",
              "}\n",
              "\n",
              "#sk-container-id-1 div.sk-estimator.fitted input.sk-toggleable__control:checked~label.sk-toggleable__label {\n",
              "  /* fitted */\n",
              "  background-color: var(--sklearn-color-fitted-level-2);\n",
              "}\n",
              "\n",
              "#sk-container-id-1 div.sk-label label.sk-toggleable__label,\n",
              "#sk-container-id-1 div.sk-label label {\n",
              "  /* The background is the default theme color */\n",
              "  color: var(--sklearn-color-text-on-default-background);\n",
              "}\n",
              "\n",
              "/* On hover, darken the color of the background */\n",
              "#sk-container-id-1 div.sk-label:hover label.sk-toggleable__label {\n",
              "  color: var(--sklearn-color-text);\n",
              "  background-color: var(--sklearn-color-unfitted-level-2);\n",
              "}\n",
              "\n",
              "/* Label box, darken color on hover, fitted */\n",
              "#sk-container-id-1 div.sk-label.fitted:hover label.sk-toggleable__label.fitted {\n",
              "  color: var(--sklearn-color-text);\n",
              "  background-color: var(--sklearn-color-fitted-level-2);\n",
              "}\n",
              "\n",
              "/* Estimator label */\n",
              "\n",
              "#sk-container-id-1 div.sk-label label {\n",
              "  font-family: monospace;\n",
              "  font-weight: bold;\n",
              "  display: inline-block;\n",
              "  line-height: 1.2em;\n",
              "}\n",
              "\n",
              "#sk-container-id-1 div.sk-label-container {\n",
              "  text-align: center;\n",
              "}\n",
              "\n",
              "/* Estimator-specific */\n",
              "#sk-container-id-1 div.sk-estimator {\n",
              "  font-family: monospace;\n",
              "  border: 1px dotted var(--sklearn-color-border-box);\n",
              "  border-radius: 0.25em;\n",
              "  box-sizing: border-box;\n",
              "  margin-bottom: 0.5em;\n",
              "  /* unfitted */\n",
              "  background-color: var(--sklearn-color-unfitted-level-0);\n",
              "}\n",
              "\n",
              "#sk-container-id-1 div.sk-estimator.fitted {\n",
              "  /* fitted */\n",
              "  background-color: var(--sklearn-color-fitted-level-0);\n",
              "}\n",
              "\n",
              "/* on hover */\n",
              "#sk-container-id-1 div.sk-estimator:hover {\n",
              "  /* unfitted */\n",
              "  background-color: var(--sklearn-color-unfitted-level-2);\n",
              "}\n",
              "\n",
              "#sk-container-id-1 div.sk-estimator.fitted:hover {\n",
              "  /* fitted */\n",
              "  background-color: var(--sklearn-color-fitted-level-2);\n",
              "}\n",
              "\n",
              "/* Specification for estimator info (e.g. \"i\" and \"?\") */\n",
              "\n",
              "/* Common style for \"i\" and \"?\" */\n",
              "\n",
              ".sk-estimator-doc-link,\n",
              "a:link.sk-estimator-doc-link,\n",
              "a:visited.sk-estimator-doc-link {\n",
              "  float: right;\n",
              "  font-size: smaller;\n",
              "  line-height: 1em;\n",
              "  font-family: monospace;\n",
              "  background-color: var(--sklearn-color-background);\n",
              "  border-radius: 1em;\n",
              "  height: 1em;\n",
              "  width: 1em;\n",
              "  text-decoration: none !important;\n",
              "  margin-left: 0.5em;\n",
              "  text-align: center;\n",
              "  /* unfitted */\n",
              "  border: var(--sklearn-color-unfitted-level-1) 1pt solid;\n",
              "  color: var(--sklearn-color-unfitted-level-1);\n",
              "}\n",
              "\n",
              ".sk-estimator-doc-link.fitted,\n",
              "a:link.sk-estimator-doc-link.fitted,\n",
              "a:visited.sk-estimator-doc-link.fitted {\n",
              "  /* fitted */\n",
              "  border: var(--sklearn-color-fitted-level-1) 1pt solid;\n",
              "  color: var(--sklearn-color-fitted-level-1);\n",
              "}\n",
              "\n",
              "/* On hover */\n",
              "div.sk-estimator:hover .sk-estimator-doc-link:hover,\n",
              ".sk-estimator-doc-link:hover,\n",
              "div.sk-label-container:hover .sk-estimator-doc-link:hover,\n",
              ".sk-estimator-doc-link:hover {\n",
              "  /* unfitted */\n",
              "  background-color: var(--sklearn-color-unfitted-level-3);\n",
              "  color: var(--sklearn-color-background);\n",
              "  text-decoration: none;\n",
              "}\n",
              "\n",
              "div.sk-estimator.fitted:hover .sk-estimator-doc-link.fitted:hover,\n",
              ".sk-estimator-doc-link.fitted:hover,\n",
              "div.sk-label-container:hover .sk-estimator-doc-link.fitted:hover,\n",
              ".sk-estimator-doc-link.fitted:hover {\n",
              "  /* fitted */\n",
              "  background-color: var(--sklearn-color-fitted-level-3);\n",
              "  color: var(--sklearn-color-background);\n",
              "  text-decoration: none;\n",
              "}\n",
              "\n",
              "/* Span, style for the box shown on hovering the info icon */\n",
              ".sk-estimator-doc-link span {\n",
              "  display: none;\n",
              "  z-index: 9999;\n",
              "  position: relative;\n",
              "  font-weight: normal;\n",
              "  right: .2ex;\n",
              "  padding: .5ex;\n",
              "  margin: .5ex;\n",
              "  width: min-content;\n",
              "  min-width: 20ex;\n",
              "  max-width: 50ex;\n",
              "  color: var(--sklearn-color-text);\n",
              "  box-shadow: 2pt 2pt 4pt #999;\n",
              "  /* unfitted */\n",
              "  background: var(--sklearn-color-unfitted-level-0);\n",
              "  border: .5pt solid var(--sklearn-color-unfitted-level-3);\n",
              "}\n",
              "\n",
              ".sk-estimator-doc-link.fitted span {\n",
              "  /* fitted */\n",
              "  background: var(--sklearn-color-fitted-level-0);\n",
              "  border: var(--sklearn-color-fitted-level-3);\n",
              "}\n",
              "\n",
              ".sk-estimator-doc-link:hover span {\n",
              "  display: block;\n",
              "}\n",
              "\n",
              "/* \"?\"-specific style due to the `<a>` HTML tag */\n",
              "\n",
              "#sk-container-id-1 a.estimator_doc_link {\n",
              "  float: right;\n",
              "  font-size: 1rem;\n",
              "  line-height: 1em;\n",
              "  font-family: monospace;\n",
              "  background-color: var(--sklearn-color-background);\n",
              "  border-radius: 1rem;\n",
              "  height: 1rem;\n",
              "  width: 1rem;\n",
              "  text-decoration: none;\n",
              "  /* unfitted */\n",
              "  color: var(--sklearn-color-unfitted-level-1);\n",
              "  border: var(--sklearn-color-unfitted-level-1) 1pt solid;\n",
              "}\n",
              "\n",
              "#sk-container-id-1 a.estimator_doc_link.fitted {\n",
              "  /* fitted */\n",
              "  border: var(--sklearn-color-fitted-level-1) 1pt solid;\n",
              "  color: var(--sklearn-color-fitted-level-1);\n",
              "}\n",
              "\n",
              "/* On hover */\n",
              "#sk-container-id-1 a.estimator_doc_link:hover {\n",
              "  /* unfitted */\n",
              "  background-color: var(--sklearn-color-unfitted-level-3);\n",
              "  color: var(--sklearn-color-background);\n",
              "  text-decoration: none;\n",
              "}\n",
              "\n",
              "#sk-container-id-1 a.estimator_doc_link.fitted:hover {\n",
              "  /* fitted */\n",
              "  background-color: var(--sklearn-color-fitted-level-3);\n",
              "}\n",
              "</style><div id=\"sk-container-id-1\" class=\"sk-top-container\"><div class=\"sk-text-repr-fallback\"><pre>RandomForestRegressor(random_state=42)</pre><b>In a Jupyter environment, please rerun this cell to show the HTML representation or trust the notebook. <br />On GitHub, the HTML representation is unable to render, please try loading this page with nbviewer.org.</b></div><div class=\"sk-container\" hidden><div class=\"sk-item\"><div class=\"sk-estimator fitted sk-toggleable\"><input class=\"sk-toggleable__control sk-hidden--visually\" id=\"sk-estimator-id-1\" type=\"checkbox\" checked><label for=\"sk-estimator-id-1\" class=\"sk-toggleable__label fitted sk-toggleable__label-arrow\"><div><div>RandomForestRegressor</div></div><div><a class=\"sk-estimator-doc-link fitted\" rel=\"noreferrer\" target=\"_blank\" href=\"https://scikit-learn.org/1.6/modules/generated/sklearn.ensemble.RandomForestRegressor.html\">?<span>Documentation for RandomForestRegressor</span></a><span class=\"sk-estimator-doc-link fitted\">i<span>Fitted</span></span></div></label><div class=\"sk-toggleable__content fitted\"><pre>RandomForestRegressor(random_state=42)</pre></div> </div></div></div></div>"
            ]
          },
          "metadata": {},
          "execution_count": 20
        }
      ]
    },
    {
      "cell_type": "markdown",
      "metadata": {
        "id": "690919c7"
      },
      "source": [
        "## Evaluate the model\n",
        "\n",
        "### Subtask:\n",
        "Evaluate the performance of the trained model using appropriate metrics.\n"
      ]
    },
    {
      "cell_type": "markdown",
      "metadata": {
        "id": "14f02037"
      },
      "source": [
        "**Reasoning**:\n",
        "Evaluate the performance of the trained model by calculating and printing MAE, MSE, and R-squared on the test set.\n",
        "\n"
      ]
    },
    {
      "cell_type": "code",
      "metadata": {
        "colab": {
          "base_uri": "https://localhost:8080/"
        },
        "id": "c3cb20c0",
        "outputId": "ad247d84-91b1-4b1b-9cc8-f99b3be37312"
      },
      "source": [
        "from sklearn.metrics import mean_absolute_error, mean_squared_error, r2_score\n",
        "\n",
        "# Make predictions on the test set\n",
        "y_pred = model.predict(X_test)\n",
        "\n",
        "# Calculate evaluation metrics\n",
        "mae = mean_absolute_error(y_test, y_pred)\n",
        "mse = mean_squared_error(y_test, y_pred)\n",
        "r2 = r2_score(y_test, y_pred)\n",
        "\n",
        "# Print the evaluation metrics\n",
        "print(f'Mean Absolute Error (MAE): {mae:.2f}')\n",
        "print(f'Mean Squared Error (MSE): {mse:.2f}')\n",
        "print(f'R-squared (R2): {r2:.2f}')"
      ],
      "execution_count": 21,
      "outputs": [
        {
          "output_type": "stream",
          "name": "stdout",
          "text": [
            "Mean Absolute Error (MAE): 135.87\n",
            "Mean Squared Error (MSE): 23518.72\n",
            "R-squared (R2): -0.04\n"
          ]
        }
      ]
    },
    {
      "cell_type": "markdown",
      "metadata": {
        "id": "04c16e5d"
      },
      "source": [
        "## Set up mlflow for experiment tracking\n",
        "\n",
        "### Subtask:\n",
        "Configure MLflow to track experiments, parameters, and metrics.\n"
      ]
    },
    {
      "cell_type": "markdown",
      "metadata": {
        "id": "b94dbd53"
      },
      "source": [
        "**Reasoning**:\n",
        "Configure MLflow to track the experiment, logging hyperparameters, metrics, and the model.\n",
        "\n"
      ]
    },
    {
      "cell_type": "code",
      "metadata": {
        "colab": {
          "base_uri": "https://localhost:8080/"
        },
        "id": "2e251978",
        "outputId": "09e6f254-f6cf-413c-d6cc-d03c33f9586a"
      },
      "source": [
        "import mlflow\n",
        "import mlflow.sklearn\n",
        "from sklearn.ensemble import RandomForestRegressor\n",
        "from sklearn.model_selection import train_test_split\n",
        "from sklearn.metrics import mean_absolute_error, mean_squared_error, r2_score\n",
        "\n",
        "# Start an MLflow run\n",
        "with mlflow.start_run():\n",
        "    # Define and train the model\n",
        "    model = RandomForestRegressor(n_estimators=100, random_state=42)\n",
        "    model.fit(X_train, y_train)\n",
        "\n",
        "    # Log hyperparameters\n",
        "    mlflow.log_params(model.get_params())\n",
        "\n",
        "    # Make predictions and calculate metrics\n",
        "    y_pred = model.predict(X_test)\n",
        "    mae = mean_absolute_error(y_test, y_pred)\n",
        "    mse = mean_squared_error(y_test, y_pred)\n",
        "    r2 = r2_score(y_test, y_pred)\n",
        "\n",
        "    # Log evaluation metrics\n",
        "    mlflow.log_metric(\"mae\", mae)\n",
        "    mlflow.log_metric(\"mse\", mse)\n",
        "    mlflow.log_metric(\"r2\", r2)\n",
        "\n",
        "    # Log the trained model\n",
        "    mlflow.sklearn.log_model(model, \"random_forest_model\")\n",
        "\n",
        "print(\"MLflow run completed.\")"
      ],
      "execution_count": 22,
      "outputs": [
        {
          "output_type": "stream",
          "name": "stderr",
          "text": [
            "2025/08/19 07:39:06 WARNING mlflow.models.model: `artifact_path` is deprecated. Please use `name` instead.\n",
            "\u001b[31m2025/08/19 07:39:18 WARNING mlflow.models.model: Model logged without a signature and input example. Please set `input_example` parameter when logging the model to auto infer the model signature.\u001b[0m\n"
          ]
        },
        {
          "output_type": "stream",
          "name": "stdout",
          "text": [
            "MLflow run completed.\n"
          ]
        }
      ]
    },
    {
      "cell_type": "markdown",
      "metadata": {
        "id": "8fa3519e"
      },
      "source": [
        "## Set up wandb for experiment tracking\n",
        "\n",
        "### Subtask:\n",
        "Configure Wandb to track experiments, parameters, and metrics.\n"
      ]
    },
    {
      "cell_type": "markdown",
      "metadata": {
        "id": "81a89f27"
      },
      "source": [
        "**Reasoning**:\n",
        "Configure Wandb to track the experiment, log the hyperparameters and metrics, and then finish the run.\n",
        "\n"
      ]
    },
    {
      "cell_type": "code",
      "metadata": {
        "colab": {
          "base_uri": "https://localhost:8080/",
          "height": 684
        },
        "id": "6c59131a",
        "outputId": "945fde1e-b601-4631-a938-5a60725dee14"
      },
      "source": [
        "import wandb\n",
        "import joblib\n",
        "import os\n",
        "\n",
        "# Initialize a Wandb run\n",
        "wandb.init(project=\"airbnb-price-prediction\")\n",
        "\n",
        "# Log hyperparameters\n",
        "wandb.config.update(model.get_params())\n",
        "\n",
        "# Log evaluation metrics\n",
        "wandb.log({\"mae\": mae, \"mse\": mse, \"r2\": r2})\n",
        "\n",
        "# Optional: Log the trained model as an artifact\n",
        "# Save the model first\n",
        "model_path = \"random_forest_model.joblib\"\n",
        "joblib.dump(model, model_path)\n",
        "\n",
        "# Log the model as an artifact\n",
        "artifact = wandb.Artifact(\"random-forest-model\", type=\"model\")\n",
        "artifact.add_file(model_path)\n",
        "wandb.log_artifact(artifact)\n",
        "\n",
        "# Clean up the saved model file\n",
        "os.remove(model_path)\n",
        "\n",
        "# End the Wandb run\n",
        "wandb.finish()\n",
        "\n",
        "print(\"Wandb run completed.\")"
      ],
      "execution_count": 23,
      "outputs": [
        {
          "output_type": "display_data",
          "data": {
            "text/plain": [
              "<IPython.core.display.Javascript object>"
            ],
            "application/javascript": [
              "\n",
              "        window._wandbApiKey = new Promise((resolve, reject) => {\n",
              "            function loadScript(url) {\n",
              "            return new Promise(function(resolve, reject) {\n",
              "                let newScript = document.createElement(\"script\");\n",
              "                newScript.onerror = reject;\n",
              "                newScript.onload = resolve;\n",
              "                document.body.appendChild(newScript);\n",
              "                newScript.src = url;\n",
              "            });\n",
              "            }\n",
              "            loadScript(\"https://cdn.jsdelivr.net/npm/postmate/build/postmate.min.js\").then(() => {\n",
              "            const iframe = document.createElement('iframe')\n",
              "            iframe.style.cssText = \"width:0;height:0;border:none\"\n",
              "            document.body.appendChild(iframe)\n",
              "            const handshake = new Postmate({\n",
              "                container: iframe,\n",
              "                url: 'https://wandb.ai/authorize'\n",
              "            });\n",
              "            const timeout = setTimeout(() => reject(\"Couldn't auto authenticate\"), 5000)\n",
              "            handshake.then(function(child) {\n",
              "                child.on('authorize', data => {\n",
              "                    clearTimeout(timeout)\n",
              "                    resolve(data)\n",
              "                });\n",
              "            });\n",
              "            })\n",
              "        });\n",
              "    "
            ]
          },
          "metadata": {}
        },
        {
          "output_type": "stream",
          "name": "stderr",
          "text": [
            "\u001b[34m\u001b[1mwandb\u001b[0m: Logging into wandb.ai. (Learn how to deploy a W&B server locally: https://wandb.me/wandb-server)\n",
            "\u001b[34m\u001b[1mwandb\u001b[0m: You can find your API key in your browser here: https://wandb.ai/authorize?ref=models\n",
            "wandb: Paste an API key from your profile and hit enter:"
          ]
        },
        {
          "name": "stdout",
          "output_type": "stream",
          "text": [
            " ··········\n"
          ]
        },
        {
          "output_type": "stream",
          "name": "stderr",
          "text": [
            "\u001b[34m\u001b[1mwandb\u001b[0m: \u001b[33mWARNING\u001b[0m If you're specifying your api key in code, ensure this code is not shared publicly.\n",
            "\u001b[34m\u001b[1mwandb\u001b[0m: \u001b[33mWARNING\u001b[0m Consider setting the WANDB_API_KEY environment variable, or running `wandb login` from the command line.\n",
            "\u001b[34m\u001b[1mwandb\u001b[0m: No netrc file found, creating one.\n",
            "\u001b[34m\u001b[1mwandb\u001b[0m: Appending key for api.wandb.ai to your netrc file: /root/.netrc\n",
            "\u001b[34m\u001b[1mwandb\u001b[0m: Currently logged in as: \u001b[33mnishantgautam481\u001b[0m (\u001b[33mnishantgautam481-select-source-international\u001b[0m) to \u001b[32mhttps://api.wandb.ai\u001b[0m. Use \u001b[1m`wandb login --relogin`\u001b[0m to force relogin\n"
          ]
        },
        {
          "output_type": "display_data",
          "data": {
            "text/plain": [
              "<IPython.core.display.HTML object>"
            ],
            "text/html": [
              "Tracking run with wandb version 0.21.1"
            ]
          },
          "metadata": {}
        },
        {
          "output_type": "display_data",
          "data": {
            "text/plain": [
              "<IPython.core.display.HTML object>"
            ],
            "text/html": [
              "Run data is saved locally in <code>/content/wandb/run-20250819_074326-dmaj58di</code>"
            ]
          },
          "metadata": {}
        },
        {
          "output_type": "display_data",
          "data": {
            "text/plain": [
              "<IPython.core.display.HTML object>"
            ],
            "text/html": [
              "Syncing run <strong><a href='https://wandb.ai/nishantgautam481-select-source-international/airbnb-price-prediction/runs/dmaj58di' target=\"_blank\">blooming-pond-1</a></strong> to <a href='https://wandb.ai/nishantgautam481-select-source-international/airbnb-price-prediction' target=\"_blank\">Weights & Biases</a> (<a href='https://wandb.me/developer-guide' target=\"_blank\">docs</a>)<br>"
            ]
          },
          "metadata": {}
        },
        {
          "output_type": "display_data",
          "data": {
            "text/plain": [
              "<IPython.core.display.HTML object>"
            ],
            "text/html": [
              " View project at <a href='https://wandb.ai/nishantgautam481-select-source-international/airbnb-price-prediction' target=\"_blank\">https://wandb.ai/nishantgautam481-select-source-international/airbnb-price-prediction</a>"
            ]
          },
          "metadata": {}
        },
        {
          "output_type": "display_data",
          "data": {
            "text/plain": [
              "<IPython.core.display.HTML object>"
            ],
            "text/html": [
              " View run at <a href='https://wandb.ai/nishantgautam481-select-source-international/airbnb-price-prediction/runs/dmaj58di' target=\"_blank\">https://wandb.ai/nishantgautam481-select-source-international/airbnb-price-prediction/runs/dmaj58di</a>"
            ]
          },
          "metadata": {}
        },
        {
          "output_type": "display_data",
          "data": {
            "text/plain": [
              "<IPython.core.display.HTML object>"
            ],
            "text/html": []
          },
          "metadata": {}
        },
        {
          "output_type": "display_data",
          "data": {
            "text/plain": [
              "<IPython.core.display.HTML object>"
            ],
            "text/html": [
              "<br>    <style><br>        .wandb-row {<br>            display: flex;<br>            flex-direction: row;<br>            flex-wrap: wrap;<br>            justify-content: flex-start;<br>            width: 100%;<br>        }<br>        .wandb-col {<br>            display: flex;<br>            flex-direction: column;<br>            flex-basis: 100%;<br>            flex: 1;<br>            padding: 10px;<br>        }<br>    </style><br><div class=\"wandb-row\"><div class=\"wandb-col\"><h3>Run history:</h3><br/><table class=\"wandb\"><tr><td>mae</td><td>▁</td></tr><tr><td>mse</td><td>▁</td></tr><tr><td>r2</td><td>▁</td></tr></table><br/></div><div class=\"wandb-col\"><h3>Run summary:</h3><br/><table class=\"wandb\"><tr><td>mae</td><td>135.871</td></tr><tr><td>mse</td><td>23518.71924</td></tr><tr><td>r2</td><td>-0.0393</td></tr></table><br/></div></div>"
            ]
          },
          "metadata": {}
        },
        {
          "output_type": "display_data",
          "data": {
            "text/plain": [
              "<IPython.core.display.HTML object>"
            ],
            "text/html": [
              " View run <strong style=\"color:#cdcd00\">blooming-pond-1</strong> at: <a href='https://wandb.ai/nishantgautam481-select-source-international/airbnb-price-prediction/runs/dmaj58di' target=\"_blank\">https://wandb.ai/nishantgautam481-select-source-international/airbnb-price-prediction/runs/dmaj58di</a><br> View project at: <a href='https://wandb.ai/nishantgautam481-select-source-international/airbnb-price-prediction' target=\"_blank\">https://wandb.ai/nishantgautam481-select-source-international/airbnb-price-prediction</a><br>Synced 5 W&B file(s), 0 media file(s), 2 artifact file(s) and 0 other file(s)"
            ]
          },
          "metadata": {}
        },
        {
          "output_type": "display_data",
          "data": {
            "text/plain": [
              "<IPython.core.display.HTML object>"
            ],
            "text/html": [
              "Find logs at: <code>./wandb/run-20250819_074326-dmaj58di/logs</code>"
            ]
          },
          "metadata": {}
        },
        {
          "output_type": "stream",
          "name": "stdout",
          "text": [
            "Wandb run completed.\n"
          ]
        }
      ]
    },
    {
      "cell_type": "markdown",
      "metadata": {
        "id": "fcf8a3d8"
      },
      "source": [
        "## Set up gradio for model inference\n",
        "\n",
        "### Subtask:\n",
        "Build a user interface using Gradio to allow users to get predictions from the trained model.\n"
      ]
    },
    {
      "cell_type": "markdown",
      "metadata": {
        "id": "55c88950"
      },
      "source": [
        "**Reasoning**:\n",
        "Build a Gradio interface for the trained model.\n",
        "\n"
      ]
    },
    {
      "cell_type": "markdown",
      "metadata": {
        "id": "1d90512a"
      },
      "source": [
        "**Reasoning**:\n",
        "The previous attempt failed because the model file was not found. I need to save the model first before loading it for the Gradio interface.\n",
        "\n"
      ]
    },
    {
      "cell_type": "code",
      "metadata": {
        "colab": {
          "base_uri": "https://localhost:8080/",
          "height": 646
        },
        "id": "Lj8CUMNxSQ9g",
        "outputId": "0f02340c-9032-45b9-895c-3d2729cd09ca"
      },
      "source": [
        "import gradio as gr\n",
        "import joblib\n",
        "import numpy as np\n",
        "import os\n",
        "\n",
        "# Save the trained model\n",
        "model_path = 'random_forest_model.joblib'\n",
        "joblib.dump(model, model_path)\n",
        "\n",
        "# Load the trained model\n",
        "model = joblib.load(model_path)\n",
        "\n",
        "# Define the prediction function\n",
        "def predict_price(bedrooms, bathrooms, number_of_reviews, review_scores_rating, beds, property_type_Condo, property_type_House, property_type_Townhouse, room_type_Private_room, room_type_Shared_room):\n",
        "    # Create a numpy array with the input features in the correct order\n",
        "    features = np.array([[bedrooms, bathrooms, number_of_reviews, review_scores_rating, beds, property_type_Condo, property_type_House, property_type_Townhouse, room_type_Private_room, room_type_Shared_room]])\n",
        "    # Predict the price\n",
        "    predicted_price = model.predict(features)\n",
        "    return predicted_price[0]\n",
        "\n",
        "# Create Gradio interface components for inputs\n",
        "inputs = [\n",
        "    gr.Number(label=\"Bedrooms\"),\n",
        "    gr.Number(label=\"Bathrooms\"),\n",
        "    gr.Number(label=\"Number of Reviews\"),\n",
        "    gr.Number(label=\"Review Scores Rating\"),\n",
        "    gr.Number(label=\"Beds\"),\n",
        "    gr.Checkbox(label=\"Property Type: Condo\"),\n",
        "    gr.Checkbox(label=\"Property Type: House\"),\n",
        "    gr.Checkbox(label=\"Property Type: Townhouse\"),\n",
        "    gr.Checkbox(label=\"Room Type: Private Room\"),\n",
        "    gr.Checkbox(label=\"Room Type: Shared Room\"),\n",
        "]\n",
        "\n",
        "# Create Gradio interface component for output\n",
        "output = gr.Number(label=\"Predicted Price\")\n",
        "\n",
        "# Create the Gradio interface\n",
        "iface = gr.Interface(\n",
        "    fn=predict_price,\n",
        "    inputs=inputs,\n",
        "    outputs=output,\n",
        "    title=\"Airbnb Price Prediction\",\n",
        "    description=\"Predict the price of an Airbnb listing based on its features.\"\n",
        ")\n",
        "\n",
        "# Launch the interface\n",
        "iface.launch()"
      ],
      "execution_count": 25,
      "outputs": [
        {
          "output_type": "stream",
          "name": "stdout",
          "text": [
            "It looks like you are running Gradio on a hosted Jupyter notebook, which requires `share=True`. Automatically setting `share=True` (you can turn this off by setting `share=False` in `launch()` explicitly).\n",
            "\n",
            "Colab notebook detected. To show errors in colab notebook, set debug=True in launch()\n",
            "* Running on public URL: https://430a7d5dad3cef642a.gradio.live\n",
            "\n",
            "This share link expires in 1 week. For free permanent hosting and GPU upgrades, run `gradio deploy` from the terminal in the working directory to deploy to Hugging Face Spaces (https://huggingface.co/spaces)\n"
          ]
        },
        {
          "output_type": "display_data",
          "data": {
            "text/plain": [
              "<IPython.core.display.HTML object>"
            ],
            "text/html": [
              "<div><iframe src=\"https://430a7d5dad3cef642a.gradio.live\" width=\"100%\" height=\"500\" allow=\"autoplay; camera; microphone; clipboard-read; clipboard-write;\" frameborder=\"0\" allowfullscreen></iframe></div>"
            ]
          },
          "metadata": {}
        },
        {
          "output_type": "execute_result",
          "data": {
            "text/plain": []
          },
          "metadata": {},
          "execution_count": 25
        }
      ]
    },
    {
      "cell_type": "markdown",
      "metadata": {
        "id": "bf549733"
      },
      "source": [
        "## Containerize the application\n",
        "\n",
        "### Subtask:\n",
        "Create a Dockerfile to containerize the application, including the model and the Gradio interface.\n"
      ]
    },
    {
      "cell_type": "markdown",
      "metadata": {
        "id": "f0a2c3c6"
      },
      "source": [
        "**Reasoning**:\n",
        "Create the Dockerfile to containerize the application.\n",
        "\n"
      ]
    },
    {
      "cell_type": "code",
      "metadata": {
        "colab": {
          "base_uri": "https://localhost:8080/"
        },
        "id": "e0b74f31",
        "outputId": "711ef7d3-d679-4e6d-a5ed-3e3e5c92539d"
      },
      "source": [
        "%%writefile Dockerfile\n",
        "# Use an official Python runtime as a parent image\n",
        "FROM python:3.8-slim\n",
        "\n",
        "# Set the working directory in the container\n",
        "WORKDIR /app\n",
        "\n",
        "# Copy the current directory contents into the container at /app\n",
        "COPY . /app\n",
        "\n",
        "# Install any needed packages specified in requirements.txt\n",
        "RUN pip install --no-cache-dir -r requirements.txt\n",
        "\n",
        "# Expose the port that Gradio runs on\n",
        "EXPOSE 7860\n",
        "\n",
        "# Run the Gradio application script\n",
        "CMD [\"python\", \"app.py\"]"
      ],
      "execution_count": 26,
      "outputs": [
        {
          "output_type": "stream",
          "name": "stdout",
          "text": [
            "Writing Dockerfile\n"
          ]
        }
      ]
    },
    {
      "cell_type": "markdown",
      "metadata": {
        "id": "7e2998a7"
      },
      "source": [
        "## Orchestrate with docker compose\n",
        "\n",
        "### Subtask:\n",
        "Use Docker Compose to define and run the multi-container Docker application.\n"
      ]
    },
    {
      "cell_type": "markdown",
      "metadata": {
        "id": "7029b973"
      },
      "source": [
        "**Reasoning**:\n",
        "Create the docker-compose.yml file to define the service for the Gradio application and map the container port to the host port.\n",
        "\n"
      ]
    },
    {
      "cell_type": "code",
      "metadata": {
        "colab": {
          "base_uri": "https://localhost:8080/"
        },
        "id": "768fb6f6",
        "outputId": "1eafc225-3d0f-47d4-c7be-f61eaed8258a"
      },
      "source": [
        "%%writefile docker-compose.yml\n",
        "version: '3.8'\n",
        "\n",
        "services:\n",
        "  gradio-app:\n",
        "    build: .\n",
        "    ports:\n",
        "      - \"7860:7860\"\n",
        "    volumes:\n",
        "      - .:/app"
      ],
      "execution_count": 27,
      "outputs": [
        {
          "output_type": "stream",
          "name": "stdout",
          "text": [
            "Writing docker-compose.yml\n"
          ]
        }
      ]
    },
    {
      "cell_type": "markdown",
      "metadata": {
        "id": "b3d22686"
      },
      "source": [
        "**Reasoning**:\n",
        "Build and run the Docker container using the docker-compose file.\n",
        "\n"
      ]
    },
    {
      "cell_type": "code",
      "metadata": {
        "colab": {
          "base_uri": "https://localhost:8080/"
        },
        "id": "44b51e65",
        "outputId": "6e75232d-92b1-4912-f9d9-36975c1adfb8"
      },
      "source": [
        "!docker-compose up --build -d"
      ],
      "execution_count": 28,
      "outputs": [
        {
          "output_type": "stream",
          "name": "stdout",
          "text": [
            "/bin/bash: line 1: docker-compose: command not found\n"
          ]
        }
      ]
    },
    {
      "cell_type": "markdown",
      "metadata": {
        "id": "cd9ff22a"
      },
      "source": [
        "## Orchestrate with docker compose\n",
        "\n",
        "### Subtask:\n",
        "Use Docker Compose to define and run the multi-container Docker application.\n"
      ]
    },
    {
      "cell_type": "markdown",
      "metadata": {
        "id": "daf94efc"
      },
      "source": [
        "**Reasoning**:\n",
        "Docker Compose was not found in the previous step, so I will try to install it using pip, as it is a common way to install Python packages, and then retry the docker-compose command.\n",
        "\n"
      ]
    },
    {
      "cell_type": "code",
      "metadata": {
        "colab": {
          "base_uri": "https://localhost:8080/"
        },
        "id": "e42e070d",
        "outputId": "48f7dda7-173e-49c3-ff6d-f9521ad58847"
      },
      "source": [
        "!pip install docker-compose"
      ],
      "execution_count": 29,
      "outputs": [
        {
          "output_type": "stream",
          "name": "stdout",
          "text": [
            "Collecting docker-compose\n",
            "  Downloading docker_compose-1.29.2-py2.py3-none-any.whl.metadata (4.7 kB)\n",
            "Collecting PyYAML<6,>=3.10 (from docker-compose)\n",
            "  Downloading PyYAML-5.4.1.tar.gz (175 kB)\n",
            "\u001b[2K     \u001b[90m━━━━━━━━━━━━━━━━━━━━━━━━━━━━━━━━━━━━━━━\u001b[0m \u001b[32m175.1/175.1 kB\u001b[0m \u001b[31m6.0 MB/s\u001b[0m eta \u001b[36m0:00:00\u001b[0m\n",
            "\u001b[?25h  Installing build dependencies ... \u001b[?25l\u001b[?25hdone\n",
            "  \u001b[1;31merror\u001b[0m: \u001b[1msubprocess-exited-with-error\u001b[0m\n",
            "  \n",
            "  \u001b[31m×\u001b[0m \u001b[32mGetting requirements to build wheel\u001b[0m did not run successfully.\n",
            "  \u001b[31m│\u001b[0m exit code: \u001b[1;36m1\u001b[0m\n",
            "  \u001b[31m╰─>\u001b[0m See above for output.\n",
            "  \n",
            "  \u001b[1;35mnote\u001b[0m: This error originates from a subprocess, and is likely not a problem with pip.\n",
            "  Getting requirements to build wheel ... \u001b[?25l\u001b[?25herror\n",
            "\u001b[1;31merror\u001b[0m: \u001b[1msubprocess-exited-with-error\u001b[0m\n",
            "\n",
            "\u001b[31m×\u001b[0m \u001b[32mGetting requirements to build wheel\u001b[0m did not run successfully.\n",
            "\u001b[31m│\u001b[0m exit code: \u001b[1;36m1\u001b[0m\n",
            "\u001b[31m╰─>\u001b[0m See above for output.\n",
            "\n",
            "\u001b[1;35mnote\u001b[0m: This error originates from a subprocess, and is likely not a problem with pip.\n"
          ]
        }
      ]
    },
    {
      "cell_type": "markdown",
      "metadata": {
        "id": "e0035972"
      },
      "source": [
        "**Reasoning**:\n",
        "The previous attempt to install docker-compose using pip failed. This might be due to build issues or incompatible dependencies. I will try installing it using a different method, which is more typical for installing Docker Compose as a standalone executable.\n",
        "\n"
      ]
    },
    {
      "cell_type": "code",
      "metadata": {
        "colab": {
          "base_uri": "https://localhost:8080/"
        },
        "id": "a2792c90",
        "outputId": "687990bb-a569-42a1-b226-cabe9a2b6ace"
      },
      "source": [
        "!apt-get update && apt-get install -y docker-compose"
      ],
      "execution_count": 30,
      "outputs": [
        {
          "output_type": "stream",
          "name": "stdout",
          "text": [
            "\r0% [Working]\r            \rHit:1 http://archive.ubuntu.com/ubuntu jammy InRelease\n",
            "\r0% [Waiting for headers] [Waiting for headers] [Connected to cloud.r-project.or\r                                                                               \rGet:2 http://archive.ubuntu.com/ubuntu jammy-updates InRelease [128 kB]\n",
            "\r                                                                               \rGet:3 http://archive.ubuntu.com/ubuntu jammy-backports InRelease [127 kB]\n",
            "\r                                                                               \rGet:4 http://security.ubuntu.com/ubuntu jammy-security InRelease [129 kB]\n",
            "\r0% [3 InRelease 127 kB/127 kB 100%] [Connected to cloud.r-project.org (18.239.5\r0% [Connected to cloud.r-project.org (18.239.50.53)] [Connected to r2u.stat.ill\r                                                                               \rGet:5 https://cloud.r-project.org/bin/linux/ubuntu jammy-cran40/ InRelease [3,632 B]\n",
            "\r0% [Connected to r2u.stat.illinois.edu (192.17.190.167)] [Connected to develope\r                                                                               \rHit:6 https://cli.github.com/packages stable InRelease\n",
            "Get:7 https://developer.download.nvidia.com/compute/cuda/repos/ubuntu2204/x86_64  InRelease [1,581 B]\n",
            "Hit:8 https://ppa.launchpadcontent.net/deadsnakes/ppa/ubuntu jammy InRelease\n",
            "Hit:9 https://ppa.launchpadcontent.net/graphics-drivers/ppa/ubuntu jammy InRelease\n",
            "Hit:10 https://ppa.launchpadcontent.net/ubuntugis/ppa/ubuntu jammy InRelease\n",
            "Hit:11 https://r2u.stat.illinois.edu/ubuntu jammy InRelease\n",
            "Get:12 http://archive.ubuntu.com/ubuntu jammy-updates/main amd64 Packages [3,546 kB]\n",
            "Get:13 http://archive.ubuntu.com/ubuntu jammy-updates/universe amd64 Packages [1,575 kB]\n",
            "Get:14 http://archive.ubuntu.com/ubuntu jammy-updates/restricted amd64 Packages [5,369 kB]\n",
            "Get:15 http://security.ubuntu.com/ubuntu jammy-security/universe amd64 Packages [1,271 kB]\n",
            "Get:16 http://security.ubuntu.com/ubuntu jammy-security/main amd64 Packages [3,233 kB]\n",
            "Get:17 http://security.ubuntu.com/ubuntu jammy-security/restricted amd64 Packages [5,174 kB]\n",
            "Get:18 https://developer.download.nvidia.com/compute/cuda/repos/ubuntu2204/x86_64  Packages [1,937 kB]\n",
            "Fetched 22.5 MB in 6s (3,947 kB/s)\n",
            "Reading package lists... Done\n",
            "W: Skipping acquire of configured file 'main/source/Sources' as repository 'https://r2u.stat.illinois.edu/ubuntu jammy InRelease' does not seem to provide it (sources.list entry misspelt?)\n",
            "Reading package lists... Done\n",
            "Building dependency tree... Done\n",
            "Reading state information... Done\n",
            "The following additional packages will be installed:\n",
            "  apparmor bridge-utils containerd dns-root-data dnsmasq-base docker.io\n",
            "  iptables libip6tc2 libnetfilter-conntrack3 libnfnetlink0 libnftnl11 netbase\n",
            "  netcat netcat-openbsd python3-attr python3-certifi python3-chardet\n",
            "  python3-docker python3-dockerpty python3-docopt python3-dotenv python3-idna\n",
            "  python3-jsonschema python3-pkg-resources python3-pyrsistent python3-requests\n",
            "  python3-setuptools python3-texttable python3-urllib3 python3-websocket\n",
            "  python3-yaml runc ubuntu-fan\n",
            "Suggested packages:\n",
            "  apparmor-profiles-extra apparmor-utils ifupdown aufs-tools btrfs-progs\n",
            "  cgroupfs-mount | cgroup-lite debootstrap docker-buildx docker-compose-v2\n",
            "  docker-doc rinse zfs-fuse | zfsutils firewalld nftables python-attr-doc\n",
            "  python-jsonschema-doc python3-openssl python3-socks python-requests-doc\n",
            "  python-setuptools-doc\n",
            "The following NEW packages will be installed:\n",
            "  apparmor bridge-utils containerd dns-root-data dnsmasq-base docker-compose\n",
            "  docker.io iptables libip6tc2 libnetfilter-conntrack3 libnfnetlink0\n",
            "  libnftnl11 netbase netcat netcat-openbsd python3-attr python3-certifi\n",
            "  python3-chardet python3-docker python3-dockerpty python3-docopt\n",
            "  python3-dotenv python3-idna python3-jsonschema python3-pyrsistent\n",
            "  python3-requests python3-setuptools python3-texttable python3-urllib3\n",
            "  python3-websocket python3-yaml runc ubuntu-fan\n",
            "The following packages will be upgraded:\n",
            "  python3-pkg-resources\n",
            "1 upgraded, 33 newly installed, 0 to remove and 35 not upgraded.\n",
            "Need to get 82.5 MB of archives.\n",
            "After this operation, 314 MB of additional disk space will be used.\n",
            "Get:1 http://archive.ubuntu.com/ubuntu jammy/main amd64 netbase all 6.3 [12.9 kB]\n",
            "Get:2 http://archive.ubuntu.com/ubuntu jammy/main amd64 netcat-openbsd amd64 1.218-4ubuntu1 [39.4 kB]\n",
            "Get:3 http://archive.ubuntu.com/ubuntu jammy/main amd64 python3-yaml amd64 5.4.1-1ubuntu1 [129 kB]\n",
            "Get:4 http://archive.ubuntu.com/ubuntu jammy-updates/main amd64 apparmor amd64 3.0.4-2ubuntu2.4 [598 kB]\n",
            "Get:5 http://archive.ubuntu.com/ubuntu jammy-updates/main amd64 libip6tc2 amd64 1.8.7-1ubuntu5.2 [20.3 kB]\n",
            "Get:6 http://archive.ubuntu.com/ubuntu jammy/main amd64 libnfnetlink0 amd64 1.0.1-3build3 [14.6 kB]\n",
            "Get:7 http://archive.ubuntu.com/ubuntu jammy/main amd64 libnetfilter-conntrack3 amd64 1.0.9-1 [45.3 kB]\n",
            "Get:8 http://archive.ubuntu.com/ubuntu jammy/main amd64 libnftnl11 amd64 1.2.1-1build1 [65.5 kB]\n",
            "Get:9 http://archive.ubuntu.com/ubuntu jammy-updates/main amd64 iptables amd64 1.8.7-1ubuntu5.2 [455 kB]\n",
            "Get:10 https://ppa.launchpadcontent.net/ubuntugis/ppa/ubuntu jammy/main amd64 python3-pkg-resources all 68.1.2-2~jammy3 [216 kB]\n",
            "Get:11 http://archive.ubuntu.com/ubuntu jammy/main amd64 bridge-utils amd64 1.7-1ubuntu3 [34.4 kB]\n",
            "Get:12 http://archive.ubuntu.com/ubuntu jammy-updates/main amd64 runc amd64 1.2.5-0ubuntu1~22.04.1 [8,093 kB]\n",
            "Get:13 https://ppa.launchpadcontent.net/ubuntugis/ppa/ubuntu jammy/main amd64 python3-setuptools all 68.1.2-2~jammy3 [465 kB]\n",
            "Get:14 http://archive.ubuntu.com/ubuntu jammy-updates/main amd64 containerd amd64 1.7.27-0ubuntu1~22.04.1 [37.8 MB]\n",
            "Get:15 http://archive.ubuntu.com/ubuntu jammy-updates/main amd64 dns-root-data all 2024071801~ubuntu0.22.04.1 [6,132 B]\n",
            "Get:16 http://archive.ubuntu.com/ubuntu jammy-updates/main amd64 dnsmasq-base amd64 2.90-0ubuntu0.22.04.1 [374 kB]\n",
            "Get:17 http://archive.ubuntu.com/ubuntu jammy/main amd64 python3-certifi all 2020.6.20-1 [150 kB]\n",
            "Get:18 http://archive.ubuntu.com/ubuntu jammy/main amd64 python3-chardet all 4.0.0-1 [98.0 kB]\n",
            "Get:19 http://archive.ubuntu.com/ubuntu jammy-updates/main amd64 python3-idna all 3.3-1ubuntu0.1 [52.1 kB]\n",
            "Get:20 http://archive.ubuntu.com/ubuntu jammy-updates/main amd64 python3-urllib3 all 1.26.5-1~exp1ubuntu0.3 [98.6 kB]\n",
            "Get:21 http://archive.ubuntu.com/ubuntu jammy-updates/main amd64 python3-requests all 2.25.1+dfsg-2ubuntu0.3 [48.8 kB]\n",
            "Get:22 http://archive.ubuntu.com/ubuntu jammy/universe amd64 python3-websocket all 1.2.3-1 [34.7 kB]\n",
            "Get:23 http://archive.ubuntu.com/ubuntu jammy/universe amd64 python3-docker all 5.0.3-1 [89.3 kB]\n",
            "Get:24 http://archive.ubuntu.com/ubuntu jammy/universe amd64 python3-dockerpty all 0.4.1-2 [11.1 kB]\n",
            "Get:25 http://archive.ubuntu.com/ubuntu jammy/universe amd64 python3-docopt all 0.6.2-4 [26.9 kB]\n",
            "Get:26 http://archive.ubuntu.com/ubuntu jammy/universe amd64 python3-dotenv all 0.19.2-1 [20.5 kB]\n",
            "Get:27 http://archive.ubuntu.com/ubuntu jammy/main amd64 python3-attr all 21.2.0-1 [44.0 kB]\n",
            "Get:28 http://archive.ubuntu.com/ubuntu jammy/main amd64 python3-pyrsistent amd64 0.18.1-1build1 [55.5 kB]\n",
            "Get:29 http://archive.ubuntu.com/ubuntu jammy/main amd64 python3-jsonschema all 3.2.0-0ubuntu2 [43.1 kB]\n",
            "Get:30 http://archive.ubuntu.com/ubuntu jammy/universe amd64 python3-texttable all 1.6.4-1 [11.4 kB]\n",
            "Get:31 http://archive.ubuntu.com/ubuntu jammy/universe amd64 docker-compose all 1.29.2-1 [95.8 kB]\n",
            "Get:32 http://archive.ubuntu.com/ubuntu jammy-updates/universe amd64 docker.io amd64 27.5.1-0ubuntu3~22.04.2 [33.3 MB]\n",
            "Get:33 http://archive.ubuntu.com/ubuntu jammy/universe amd64 netcat all 1.218-4ubuntu1 [2,044 B]\n",
            "Get:34 http://archive.ubuntu.com/ubuntu jammy/universe amd64 ubuntu-fan all 0.12.16 [35.2 kB]\n",
            "Fetched 82.5 MB in 2s (46.9 MB/s)\n",
            "Extracting templates from packages: 100%\n",
            "Preconfiguring packages ...\n",
            "Selecting previously unselected package netbase.\n",
            "(Reading database ... 126380 files and directories currently installed.)\n",
            "Preparing to unpack .../00-netbase_6.3_all.deb ...\n",
            "Unpacking netbase (6.3) ...\n",
            "Selecting previously unselected package netcat-openbsd.\n",
            "Preparing to unpack .../01-netcat-openbsd_1.218-4ubuntu1_amd64.deb ...\n",
            "Unpacking netcat-openbsd (1.218-4ubuntu1) ...\n",
            "Selecting previously unselected package python3-yaml.\n",
            "Preparing to unpack .../02-python3-yaml_5.4.1-1ubuntu1_amd64.deb ...\n",
            "Unpacking python3-yaml (5.4.1-1ubuntu1) ...\n",
            "Selecting previously unselected package apparmor.\n",
            "Preparing to unpack .../03-apparmor_3.0.4-2ubuntu2.4_amd64.deb ...\n",
            "Unpacking apparmor (3.0.4-2ubuntu2.4) ...\n",
            "Selecting previously unselected package libip6tc2:amd64.\n",
            "Preparing to unpack .../04-libip6tc2_1.8.7-1ubuntu5.2_amd64.deb ...\n",
            "Unpacking libip6tc2:amd64 (1.8.7-1ubuntu5.2) ...\n",
            "Selecting previously unselected package libnfnetlink0:amd64.\n",
            "Preparing to unpack .../05-libnfnetlink0_1.0.1-3build3_amd64.deb ...\n",
            "Unpacking libnfnetlink0:amd64 (1.0.1-3build3) ...\n",
            "Selecting previously unselected package libnetfilter-conntrack3:amd64.\n",
            "Preparing to unpack .../06-libnetfilter-conntrack3_1.0.9-1_amd64.deb ...\n",
            "Unpacking libnetfilter-conntrack3:amd64 (1.0.9-1) ...\n",
            "Selecting previously unselected package libnftnl11:amd64.\n",
            "Preparing to unpack .../07-libnftnl11_1.2.1-1build1_amd64.deb ...\n",
            "Unpacking libnftnl11:amd64 (1.2.1-1build1) ...\n",
            "Selecting previously unselected package iptables.\n",
            "Preparing to unpack .../08-iptables_1.8.7-1ubuntu5.2_amd64.deb ...\n",
            "Unpacking iptables (1.8.7-1ubuntu5.2) ...\n",
            "Selecting previously unselected package bridge-utils.\n",
            "Preparing to unpack .../09-bridge-utils_1.7-1ubuntu3_amd64.deb ...\n",
            "Unpacking bridge-utils (1.7-1ubuntu3) ...\n",
            "Selecting previously unselected package runc.\n",
            "Preparing to unpack .../10-runc_1.2.5-0ubuntu1~22.04.1_amd64.deb ...\n",
            "Unpacking runc (1.2.5-0ubuntu1~22.04.1) ...\n",
            "Selecting previously unselected package containerd.\n",
            "Preparing to unpack .../11-containerd_1.7.27-0ubuntu1~22.04.1_amd64.deb ...\n",
            "Unpacking containerd (1.7.27-0ubuntu1~22.04.1) ...\n",
            "Selecting previously unselected package dns-root-data.\n",
            "Preparing to unpack .../12-dns-root-data_2024071801~ubuntu0.22.04.1_all.deb ...\n",
            "Unpacking dns-root-data (2024071801~ubuntu0.22.04.1) ...\n",
            "Selecting previously unselected package dnsmasq-base.\n",
            "Preparing to unpack .../13-dnsmasq-base_2.90-0ubuntu0.22.04.1_amd64.deb ...\n",
            "Unpacking dnsmasq-base (2.90-0ubuntu0.22.04.1) ...\n",
            "Selecting previously unselected package python3-certifi.\n",
            "Preparing to unpack .../14-python3-certifi_2020.6.20-1_all.deb ...\n",
            "Unpacking python3-certifi (2020.6.20-1) ...\n",
            "Preparing to unpack .../15-python3-pkg-resources_68.1.2-2~jammy3_all.deb ...\n",
            "Unpacking python3-pkg-resources (68.1.2-2~jammy3) over (59.6.0-1.2ubuntu0.22.04.3) ...\n",
            "Selecting previously unselected package python3-chardet.\n",
            "Preparing to unpack .../16-python3-chardet_4.0.0-1_all.deb ...\n",
            "Unpacking python3-chardet (4.0.0-1) ...\n",
            "Selecting previously unselected package python3-idna.\n",
            "Preparing to unpack .../17-python3-idna_3.3-1ubuntu0.1_all.deb ...\n",
            "Unpacking python3-idna (3.3-1ubuntu0.1) ...\n",
            "Selecting previously unselected package python3-urllib3.\n",
            "Preparing to unpack .../18-python3-urllib3_1.26.5-1~exp1ubuntu0.3_all.deb ...\n",
            "Unpacking python3-urllib3 (1.26.5-1~exp1ubuntu0.3) ...\n",
            "Selecting previously unselected package python3-requests.\n",
            "Preparing to unpack .../19-python3-requests_2.25.1+dfsg-2ubuntu0.3_all.deb ...\n",
            "Unpacking python3-requests (2.25.1+dfsg-2ubuntu0.3) ...\n",
            "Selecting previously unselected package python3-websocket.\n",
            "Preparing to unpack .../20-python3-websocket_1.2.3-1_all.deb ...\n",
            "Unpacking python3-websocket (1.2.3-1) ...\n",
            "Selecting previously unselected package python3-docker.\n",
            "Preparing to unpack .../21-python3-docker_5.0.3-1_all.deb ...\n",
            "Unpacking python3-docker (5.0.3-1) ...\n",
            "Selecting previously unselected package python3-dockerpty.\n",
            "Preparing to unpack .../22-python3-dockerpty_0.4.1-2_all.deb ...\n",
            "Unpacking python3-dockerpty (0.4.1-2) ...\n",
            "Selecting previously unselected package python3-docopt.\n",
            "Preparing to unpack .../23-python3-docopt_0.6.2-4_all.deb ...\n",
            "Unpacking python3-docopt (0.6.2-4) ...\n",
            "Selecting previously unselected package python3-dotenv.\n",
            "Preparing to unpack .../24-python3-dotenv_0.19.2-1_all.deb ...\n",
            "Unpacking python3-dotenv (0.19.2-1) ...\n",
            "Selecting previously unselected package python3-attr.\n",
            "Preparing to unpack .../25-python3-attr_21.2.0-1_all.deb ...\n",
            "Unpacking python3-attr (21.2.0-1) ...\n",
            "Selecting previously unselected package python3-setuptools.\n",
            "Preparing to unpack .../26-python3-setuptools_68.1.2-2~jammy3_all.deb ...\n",
            "Unpacking python3-setuptools (68.1.2-2~jammy3) ...\n",
            "Selecting previously unselected package python3-pyrsistent:amd64.\n",
            "Preparing to unpack .../27-python3-pyrsistent_0.18.1-1build1_amd64.deb ...\n",
            "Unpacking python3-pyrsistent:amd64 (0.18.1-1build1) ...\n",
            "Selecting previously unselected package python3-jsonschema.\n",
            "Preparing to unpack .../28-python3-jsonschema_3.2.0-0ubuntu2_all.deb ...\n",
            "Unpacking python3-jsonschema (3.2.0-0ubuntu2) ...\n",
            "Selecting previously unselected package python3-texttable.\n",
            "Preparing to unpack .../29-python3-texttable_1.6.4-1_all.deb ...\n",
            "Unpacking python3-texttable (1.6.4-1) ...\n",
            "Selecting previously unselected package docker-compose.\n",
            "Preparing to unpack .../30-docker-compose_1.29.2-1_all.deb ...\n",
            "Unpacking docker-compose (1.29.2-1) ...\n",
            "Selecting previously unselected package docker.io.\n",
            "Preparing to unpack .../31-docker.io_27.5.1-0ubuntu3~22.04.2_amd64.deb ...\n",
            "Unpacking docker.io (27.5.1-0ubuntu3~22.04.2) ...\n",
            "Selecting previously unselected package netcat.\n",
            "Preparing to unpack .../32-netcat_1.218-4ubuntu1_all.deb ...\n",
            "Unpacking netcat (1.218-4ubuntu1) ...\n",
            "Selecting previously unselected package ubuntu-fan.\n",
            "Preparing to unpack .../33-ubuntu-fan_0.12.16_all.deb ...\n",
            "Unpacking ubuntu-fan (0.12.16) ...\n",
            "Setting up python3-dotenv (0.19.2-1) ...\n",
            "Setting up python3-pkg-resources (68.1.2-2~jammy3) ...\n",
            "Setting up python3-attr (21.2.0-1) ...\n",
            "Setting up python3-texttable (1.6.4-1) ...\n",
            "Setting up python3-docopt (0.6.2-4) ...\n",
            "Setting up python3-setuptools (68.1.2-2~jammy3) ...\n",
            "Setting up libip6tc2:amd64 (1.8.7-1ubuntu5.2) ...\n",
            "Setting up netcat-openbsd (1.218-4ubuntu1) ...\n",
            "update-alternatives: using /bin/nc.openbsd to provide /bin/nc (nc) in auto mode\n",
            "Setting up python3-yaml (5.4.1-1ubuntu1) ...\n",
            "Setting up libnftnl11:amd64 (1.2.1-1build1) ...\n",
            "Setting up netcat (1.218-4ubuntu1) ...\n",
            "Setting up runc (1.2.5-0ubuntu1~22.04.1) ...\n",
            "Setting up dns-root-data (2024071801~ubuntu0.22.04.1) ...\n",
            "Setting up apparmor (3.0.4-2ubuntu2.4) ...\n",
            "Created symlink /etc/systemd/system/sysinit.target.wants/apparmor.service → /lib/systemd/system/apparmor.service.\n",
            "Setting up python3-chardet (4.0.0-1) ...\n",
            "Setting up python3-certifi (2020.6.20-1) ...\n",
            "Setting up python3-idna (3.3-1ubuntu0.1) ...\n",
            "Setting up bridge-utils (1.7-1ubuntu3) ...\n",
            "Setting up python3-urllib3 (1.26.5-1~exp1ubuntu0.3) ...\n",
            "Setting up python3-pyrsistent:amd64 (0.18.1-1build1) ...\n",
            "Setting up libnfnetlink0:amd64 (1.0.1-3build3) ...\n",
            "Setting up netbase (6.3) ...\n",
            "Setting up containerd (1.7.27-0ubuntu1~22.04.1) ...\n",
            "Created symlink /etc/systemd/system/multi-user.target.wants/containerd.service → /lib/systemd/system/containerd.service.\n",
            "Setting up python3-websocket (1.2.3-1) ...\n",
            "Setting up python3-dockerpty (0.4.1-2) ...\n",
            "Setting up python3-jsonschema (3.2.0-0ubuntu2) ...\n",
            "Setting up python3-requests (2.25.1+dfsg-2ubuntu0.3) ...\n",
            "Setting up libnetfilter-conntrack3:amd64 (1.0.9-1) ...\n",
            "Setting up iptables (1.8.7-1ubuntu5.2) ...\n",
            "update-alternatives: using /usr/sbin/iptables-legacy to provide /usr/sbin/iptables (iptables) in auto mode\n",
            "update-alternatives: using /usr/sbin/ip6tables-legacy to provide /usr/sbin/ip6tables (ip6tables) in auto mode\n",
            "update-alternatives: using /usr/sbin/iptables-nft to provide /usr/sbin/iptables (iptables) in auto mode\n",
            "update-alternatives: using /usr/sbin/ip6tables-nft to provide /usr/sbin/ip6tables (ip6tables) in auto mode\n",
            "update-alternatives: using /usr/sbin/arptables-nft to provide /usr/sbin/arptables (arptables) in auto mode\n",
            "update-alternatives: using /usr/sbin/ebtables-nft to provide /usr/sbin/ebtables (ebtables) in auto mode\n",
            "Setting up python3-docker (5.0.3-1) ...\n",
            "Setting up docker.io (27.5.1-0ubuntu3~22.04.2) ...\n",
            "Adding group `docker' (GID 107) ...\n",
            "Done.\n",
            "Created symlink /etc/systemd/system/multi-user.target.wants/docker.service → /lib/systemd/system/docker.service.\n",
            "Created symlink /etc/systemd/system/sockets.target.wants/docker.socket → /lib/systemd/system/docker.socket.\n",
            "invoke-rc.d: unknown initscript, /etc/init.d/docker not found.\n",
            "invoke-rc.d: could not determine current runlevel\n",
            "Setting up dnsmasq-base (2.90-0ubuntu0.22.04.1) ...\n",
            "Setting up ubuntu-fan (0.12.16) ...\n",
            "Created symlink /etc/systemd/system/multi-user.target.wants/ubuntu-fan.service → /lib/systemd/system/ubuntu-fan.service.\n",
            "invoke-rc.d: could not determine current runlevel\n",
            "invoke-rc.d: policy-rc.d denied execution of start.\n",
            "Setting up docker-compose (1.29.2-1) ...\n",
            "Processing triggers for man-db (2.10.2-1) ...\n",
            "Processing triggers for dbus (1.12.20-2ubuntu4.1) ...\n",
            "Processing triggers for libc-bin (2.35-0ubuntu3.8) ...\n",
            "/sbin/ldconfig.real: /usr/local/lib/libur_adapter_level_zero_v2.so.0 is not a symbolic link\n",
            "\n",
            "/sbin/ldconfig.real: /usr/local/lib/libumf.so.0 is not a symbolic link\n",
            "\n",
            "/sbin/ldconfig.real: /usr/local/lib/libtcm.so.1 is not a symbolic link\n",
            "\n",
            "/sbin/ldconfig.real: /usr/local/lib/libtbbbind_2_0.so.3 is not a symbolic link\n",
            "\n",
            "/sbin/ldconfig.real: /usr/local/lib/libtbbmalloc.so.2 is not a symbolic link\n",
            "\n",
            "/sbin/ldconfig.real: /usr/local/lib/libhwloc.so.15 is not a symbolic link\n",
            "\n",
            "/sbin/ldconfig.real: /usr/local/lib/libur_adapter_level_zero.so.0 is not a symbolic link\n",
            "\n",
            "/sbin/ldconfig.real: /usr/local/lib/libtbb.so.12 is not a symbolic link\n",
            "\n",
            "/sbin/ldconfig.real: /usr/local/lib/libur_adapter_opencl.so.0 is not a symbolic link\n",
            "\n",
            "/sbin/ldconfig.real: /usr/local/lib/libtbbmalloc_proxy.so.2 is not a symbolic link\n",
            "\n",
            "/sbin/ldconfig.real: /usr/local/lib/libur_loader.so.0 is not a symbolic link\n",
            "\n",
            "/sbin/ldconfig.real: /usr/local/lib/libtbbbind_2_5.so.3 is not a symbolic link\n",
            "\n",
            "/sbin/ldconfig.real: /usr/local/lib/libtbbbind.so.3 is not a symbolic link\n",
            "\n",
            "/sbin/ldconfig.real: /usr/local/lib/libtcm_debug.so.1 is not a symbolic link\n",
            "\n"
          ]
        }
      ]
    },
    {
      "cell_type": "markdown",
      "metadata": {
        "id": "5cd91843"
      },
      "source": [
        "**Reasoning**:\n",
        "Docker Compose was successfully installed using apt. Now I will execute the docker-compose command to build and run the container.\n",
        "\n"
      ]
    },
    {
      "cell_type": "code",
      "metadata": {
        "colab": {
          "base_uri": "https://localhost:8080/"
        },
        "id": "39e87461",
        "outputId": "0f4d4bb8-69c6-4315-ccf3-1842eda6f5fd"
      },
      "source": [
        "!docker-compose up --build -d"
      ],
      "execution_count": 31,
      "outputs": [
        {
          "output_type": "stream",
          "name": "stdout",
          "text": [
            "Traceback (most recent call last):\n",
            "  File \"/usr/bin/docker-compose\", line 33, in <module>\n",
            "    sys.exit(load_entry_point('docker-compose==1.29.2', 'console_scripts', 'docker-compose')())\n",
            "             ^^^^^^^^^^^^^^^^^^^^^^^^^^^^^^^^^^^^^^^^^^^^^^^^^^^^^^^^^^^^^^^^^^^^^^^^^^^^^^^^^\n",
            "  File \"/usr/lib/python3/dist-packages/compose/cli/main.py\", line 81, in main\n",
            "    command_func()\n",
            "  File \"/usr/lib/python3/dist-packages/compose/cli/main.py\", line 200, in perform_command\n",
            "    project = project_from_options('.', options)\n",
            "              ^^^^^^^^^^^^^^^^^^^^^^^^^^^^^^^^^^\n",
            "  File \"/usr/lib/python3/dist-packages/compose/cli/command.py\", line 60, in project_from_options\n",
            "    return get_project(\n",
            "           ^^^^^^^^^^^^\n",
            "  File \"/usr/lib/python3/dist-packages/compose/cli/command.py\", line 152, in get_project\n",
            "    client = get_client(\n",
            "             ^^^^^^^^^^^\n",
            "  File \"/usr/lib/python3/dist-packages/compose/cli/docker_client.py\", line 41, in get_client\n",
            "    client = docker_client(\n",
            "             ^^^^^^^^^^^^^^\n",
            "  File \"/usr/lib/python3/dist-packages/compose/cli/docker_client.py\", line 124, in docker_client\n",
            "    kwargs = kwargs_from_env(environment=environment, ssl_version=tls_version)\n",
            "             ^^^^^^^^^^^^^^^^^^^^^^^^^^^^^^^^^^^^^^^^^^^^^^^^^^^^^^^^^^^^^^^^^\n",
            "TypeError: kwargs_from_env() got an unexpected keyword argument 'ssl_version'\n"
          ]
        }
      ]
    },
    {
      "cell_type": "markdown",
      "metadata": {
        "id": "991c858b"
      },
      "source": [
        "**Reasoning**:\n",
        "The docker-compose command failed with a TypeError related to the `ssl_version` argument. This indicates an incompatibility between the installed Docker Compose version and the Docker Python library. I will try installing a specific version of the Docker Python library that is known to be compatible with the installed Docker Compose version (1.29.2).\n",
        "\n"
      ]
    },
    {
      "cell_type": "code",
      "metadata": {
        "colab": {
          "base_uri": "https://localhost:8080/"
        },
        "id": "b02dadd5",
        "outputId": "f7b7cac6-da8e-4997-fb72-0dde7735d2ef"
      },
      "source": [
        "!pip install docker==5.0.3"
      ],
      "execution_count": 32,
      "outputs": [
        {
          "output_type": "stream",
          "name": "stdout",
          "text": [
            "Collecting docker==5.0.3\n",
            "  Downloading docker-5.0.3-py2.py3-none-any.whl.metadata (3.5 kB)\n",
            "Requirement already satisfied: websocket-client>=0.32.0 in /usr/local/lib/python3.11/dist-packages (from docker==5.0.3) (1.8.0)\n",
            "Requirement already satisfied: requests!=2.18.0,>=2.14.2 in /usr/local/lib/python3.11/dist-packages (from docker==5.0.3) (2.32.3)\n",
            "Requirement already satisfied: charset-normalizer<4,>=2 in /usr/local/lib/python3.11/dist-packages (from requests!=2.18.0,>=2.14.2->docker==5.0.3) (3.4.3)\n",
            "Requirement already satisfied: idna<4,>=2.5 in /usr/local/lib/python3.11/dist-packages (from requests!=2.18.0,>=2.14.2->docker==5.0.3) (3.10)\n",
            "Requirement already satisfied: urllib3<3,>=1.21.1 in /usr/local/lib/python3.11/dist-packages (from requests!=2.18.0,>=2.14.2->docker==5.0.3) (2.5.0)\n",
            "Requirement already satisfied: certifi>=2017.4.17 in /usr/local/lib/python3.11/dist-packages (from requests!=2.18.0,>=2.14.2->docker==5.0.3) (2025.8.3)\n",
            "Downloading docker-5.0.3-py2.py3-none-any.whl (146 kB)\n",
            "\u001b[?25l   \u001b[90m━━━━━━━━━━━━━━━━━━━━━━━━━━━━━━━━━━━━━━━━\u001b[0m \u001b[32m0.0/146.2 kB\u001b[0m \u001b[31m?\u001b[0m eta \u001b[36m-:--:--\u001b[0m\r\u001b[2K   \u001b[90m━━━━━━━━━━━━━━━━━━━━━━━━━━━━━━━━━━━━━━━━\u001b[0m \u001b[32m146.2/146.2 kB\u001b[0m \u001b[31m5.4 MB/s\u001b[0m eta \u001b[36m0:00:00\u001b[0m\n",
            "\u001b[?25hInstalling collected packages: docker\n",
            "  Attempting uninstall: docker\n",
            "    Found existing installation: docker 7.1.0\n",
            "    Uninstalling docker-7.1.0:\n",
            "      Successfully uninstalled docker-7.1.0\n",
            "Successfully installed docker-5.0.3\n"
          ]
        }
      ]
    },
    {
      "cell_type": "markdown",
      "metadata": {
        "id": "b1691327"
      },
      "source": [
        "**Reasoning**:\n",
        "I have successfully installed a compatible version of the Docker Python library. Now I will retry the docker-compose command to build and run the container.\n",
        "\n"
      ]
    },
    {
      "cell_type": "code",
      "metadata": {
        "colab": {
          "base_uri": "https://localhost:8080/"
        },
        "id": "39cdc4c8",
        "outputId": "f2e94f8c-aec3-47e9-8a57-bf0dec31ec19"
      },
      "source": [
        "!docker-compose up --build -d"
      ],
      "execution_count": 33,
      "outputs": [
        {
          "output_type": "stream",
          "name": "stdout",
          "text": [
            "Traceback (most recent call last):\n",
            "  File \"/usr/local/lib/python3.11/dist-packages/requests/adapters.py\", line 633, in send\n",
            "    conn = self.get_connection_with_tls_context(\n",
            "           ^^^^^^^^^^^^^^^^^^^^^^^^^^^^^^^^^^^^^\n",
            "  File \"/usr/local/lib/python3.11/dist-packages/requests/adapters.py\", line 489, in get_connection_with_tls_context\n",
            "    conn = self.poolmanager.connection_from_host(\n",
            "           ^^^^^^^^^^^^^^^^^^^^^^^^^^^^^^^^^^^^^^\n",
            "  File \"/usr/local/lib/python3.11/dist-packages/urllib3/poolmanager.py\", line 319, in connection_from_host\n",
            "    return self.connection_from_context(request_context)\n",
            "           ^^^^^^^^^^^^^^^^^^^^^^^^^^^^^^^^^^^^^^^^^^^^^\n",
            "  File \"/usr/local/lib/python3.11/dist-packages/urllib3/poolmanager.py\", line 341, in connection_from_context\n",
            "    raise URLSchemeUnknown(scheme)\n",
            "urllib3.exceptions.URLSchemeUnknown: Not supported URL scheme http+docker\n",
            "\n",
            "During handling of the above exception, another exception occurred:\n",
            "\n",
            "Traceback (most recent call last):\n",
            "  File \"/usr/local/lib/python3.11/dist-packages/docker/api/client.py\", line 214, in _retrieve_server_version\n",
            "    return self.version(api_version=False)[\"ApiVersion\"]\n",
            "           ^^^^^^^^^^^^^^^^^^^^^^^^^^^^^^^\n",
            "  File \"/usr/local/lib/python3.11/dist-packages/docker/api/daemon.py\", line 181, in version\n",
            "    return self._result(self._get(url), json=True)\n",
            "                        ^^^^^^^^^^^^^^\n",
            "  File \"/usr/local/lib/python3.11/dist-packages/docker/utils/decorators.py\", line 46, in inner\n",
            "    return f(self, *args, **kwargs)\n",
            "           ^^^^^^^^^^^^^^^^^^^^^^^^\n",
            "  File \"/usr/local/lib/python3.11/dist-packages/docker/api/client.py\", line 237, in _get\n",
            "    return self.get(url, **self._set_request_timeout(kwargs))\n",
            "           ^^^^^^^^^^^^^^^^^^^^^^^^^^^^^^^^^^^^^^^^^^^^^^^^^^\n",
            "  File \"/usr/local/lib/python3.11/dist-packages/requests/sessions.py\", line 602, in get\n",
            "    return self.request(\"GET\", url, **kwargs)\n",
            "           ^^^^^^^^^^^^^^^^^^^^^^^^^^^^^^^^^^\n",
            "  File \"/usr/local/lib/python3.11/dist-packages/requests/sessions.py\", line 589, in request\n",
            "    resp = self.send(prep, **send_kwargs)\n",
            "           ^^^^^^^^^^^^^^^^^^^^^^^^^^^^^^\n",
            "  File \"/usr/local/lib/python3.11/dist-packages/requests/sessions.py\", line 703, in send\n",
            "    r = adapter.send(request, **kwargs)\n",
            "        ^^^^^^^^^^^^^^^^^^^^^^^^^^^^^^^\n",
            "  File \"/usr/local/lib/python3.11/dist-packages/requests/adapters.py\", line 637, in send\n",
            "    raise InvalidURL(e, request=request)\n",
            "requests.exceptions.InvalidURL: Not supported URL scheme http+docker\n",
            "\n",
            "During handling of the above exception, another exception occurred:\n",
            "\n",
            "Traceback (most recent call last):\n",
            "  File \"/usr/bin/docker-compose\", line 33, in <module>\n",
            "    sys.exit(load_entry_point('docker-compose==1.29.2', 'console_scripts', 'docker-compose')())\n",
            "             ^^^^^^^^^^^^^^^^^^^^^^^^^^^^^^^^^^^^^^^^^^^^^^^^^^^^^^^^^^^^^^^^^^^^^^^^^^^^^^^^^\n",
            "  File \"/usr/lib/python3/dist-packages/compose/cli/main.py\", line 81, in main\n",
            "    command_func()\n",
            "  File \"/usr/lib/python3/dist-packages/compose/cli/main.py\", line 200, in perform_command\n",
            "    project = project_from_options('.', options)\n",
            "              ^^^^^^^^^^^^^^^^^^^^^^^^^^^^^^^^^^\n",
            "  File \"/usr/lib/python3/dist-packages/compose/cli/command.py\", line 60, in project_from_options\n",
            "    return get_project(\n",
            "           ^^^^^^^^^^^^\n",
            "  File \"/usr/lib/python3/dist-packages/compose/cli/command.py\", line 152, in get_project\n",
            "    client = get_client(\n",
            "             ^^^^^^^^^^^\n",
            "  File \"/usr/lib/python3/dist-packages/compose/cli/docker_client.py\", line 41, in get_client\n",
            "    client = docker_client(\n",
            "             ^^^^^^^^^^^^^^\n",
            "  File \"/usr/lib/python3/dist-packages/compose/cli/docker_client.py\", line 170, in docker_client\n",
            "    client = APIClient(use_ssh_client=not use_paramiko_ssh, **kwargs)\n",
            "             ^^^^^^^^^^^^^^^^^^^^^^^^^^^^^^^^^^^^^^^^^^^^^^^^^^^^^^^^\n",
            "  File \"/usr/local/lib/python3.11/dist-packages/docker/api/client.py\", line 197, in __init__\n",
            "    self._version = self._retrieve_server_version()\n",
            "                    ^^^^^^^^^^^^^^^^^^^^^^^^^^^^^^^\n",
            "  File \"/usr/local/lib/python3.11/dist-packages/docker/api/client.py\", line 221, in _retrieve_server_version\n",
            "    raise DockerException(\n",
            "docker.errors.DockerException: Error while fetching server API version: Not supported URL scheme http+docker\n"
          ]
        }
      ]
    },
    {
      "cell_type": "markdown",
      "metadata": {
        "id": "eeec7ce7"
      },
      "source": [
        "**Reasoning**:\n",
        "The `docker-compose up --build -d` command failed again, this time with a `requests.exceptions.InvalidURL: Not supported URL scheme http+docker`. This likely indicates an issue with how the Docker client is configured or the environment in which Docker Compose is being run. In some environments, the Docker daemon might not be accessible via the default socket or the necessary environment variables are not set. I will try to explicitly set the DOCKER_HOST environment variable to the default Docker socket path before running the docker-compose command.\n",
        "\n"
      ]
    },
    {
      "cell_type": "code",
      "metadata": {
        "colab": {
          "base_uri": "https://localhost:8080/"
        },
        "id": "9565e182",
        "outputId": "8af287e8-d34c-462e-c0a9-ff33b06d0da9"
      },
      "source": [
        "import os\n",
        "os.environ['DOCKER_HOST'] = 'unix://var/run/docker.sock'\n",
        "!docker-compose up --build -d"
      ],
      "execution_count": 34,
      "outputs": [
        {
          "output_type": "stream",
          "name": "stdout",
          "text": [
            "Traceback (most recent call last):\n",
            "  File \"/usr/local/lib/python3.11/dist-packages/requests/adapters.py\", line 633, in send\n",
            "    conn = self.get_connection_with_tls_context(\n",
            "           ^^^^^^^^^^^^^^^^^^^^^^^^^^^^^^^^^^^^^\n",
            "  File \"/usr/local/lib/python3.11/dist-packages/requests/adapters.py\", line 489, in get_connection_with_tls_context\n",
            "    conn = self.poolmanager.connection_from_host(\n",
            "           ^^^^^^^^^^^^^^^^^^^^^^^^^^^^^^^^^^^^^^\n",
            "  File \"/usr/local/lib/python3.11/dist-packages/urllib3/poolmanager.py\", line 319, in connection_from_host\n",
            "    return self.connection_from_context(request_context)\n",
            "           ^^^^^^^^^^^^^^^^^^^^^^^^^^^^^^^^^^^^^^^^^^^^^\n",
            "  File \"/usr/local/lib/python3.11/dist-packages/urllib3/poolmanager.py\", line 341, in connection_from_context\n",
            "    raise URLSchemeUnknown(scheme)\n",
            "urllib3.exceptions.URLSchemeUnknown: Not supported URL scheme http+docker\n",
            "\n",
            "During handling of the above exception, another exception occurred:\n",
            "\n",
            "Traceback (most recent call last):\n",
            "  File \"/usr/local/lib/python3.11/dist-packages/docker/api/client.py\", line 214, in _retrieve_server_version\n",
            "    return self.version(api_version=False)[\"ApiVersion\"]\n",
            "           ^^^^^^^^^^^^^^^^^^^^^^^^^^^^^^^\n",
            "  File \"/usr/local/lib/python3.11/dist-packages/docker/api/daemon.py\", line 181, in version\n",
            "    return self._result(self._get(url), json=True)\n",
            "                        ^^^^^^^^^^^^^^\n",
            "  File \"/usr/local/lib/python3.11/dist-packages/docker/utils/decorators.py\", line 46, in inner\n",
            "    return f(self, *args, **kwargs)\n",
            "           ^^^^^^^^^^^^^^^^^^^^^^^^\n",
            "  File \"/usr/local/lib/python3.11/dist-packages/docker/api/client.py\", line 237, in _get\n",
            "    return self.get(url, **self._set_request_timeout(kwargs))\n",
            "           ^^^^^^^^^^^^^^^^^^^^^^^^^^^^^^^^^^^^^^^^^^^^^^^^^^\n",
            "  File \"/usr/local/lib/python3.11/dist-packages/requests/sessions.py\", line 602, in get\n",
            "    return self.request(\"GET\", url, **kwargs)\n",
            "           ^^^^^^^^^^^^^^^^^^^^^^^^^^^^^^^^^^\n",
            "  File \"/usr/local/lib/python3.11/dist-packages/requests/sessions.py\", line 589, in request\n",
            "    resp = self.send(prep, **send_kwargs)\n",
            "           ^^^^^^^^^^^^^^^^^^^^^^^^^^^^^^\n",
            "  File \"/usr/local/lib/python3.11/dist-packages/requests/sessions.py\", line 703, in send\n",
            "    r = adapter.send(request, **kwargs)\n",
            "        ^^^^^^^^^^^^^^^^^^^^^^^^^^^^^^^\n",
            "  File \"/usr/local/lib/python3.11/dist-packages/requests/adapters.py\", line 637, in send\n",
            "    raise InvalidURL(e, request=request)\n",
            "requests.exceptions.InvalidURL: Not supported URL scheme http+docker\n",
            "\n",
            "During handling of the above exception, another exception occurred:\n",
            "\n",
            "Traceback (most recent call last):\n",
            "  File \"/usr/bin/docker-compose\", line 33, in <module>\n",
            "    sys.exit(load_entry_point('docker-compose==1.29.2', 'console_scripts', 'docker-compose')())\n",
            "             ^^^^^^^^^^^^^^^^^^^^^^^^^^^^^^^^^^^^^^^^^^^^^^^^^^^^^^^^^^^^^^^^^^^^^^^^^^^^^^^^^\n",
            "  File \"/usr/lib/python3/dist-packages/compose/cli/main.py\", line 81, in main\n",
            "    command_func()\n",
            "  File \"/usr/lib/python3/dist-packages/compose/cli/main.py\", line 200, in perform_command\n",
            "    project = project_from_options('.', options)\n",
            "              ^^^^^^^^^^^^^^^^^^^^^^^^^^^^^^^^^^\n",
            "  File \"/usr/lib/python3/dist-packages/compose/cli/command.py\", line 60, in project_from_options\n",
            "    return get_project(\n",
            "           ^^^^^^^^^^^^\n",
            "  File \"/usr/lib/python3/dist-packages/compose/cli/command.py\", line 152, in get_project\n",
            "    client = get_client(\n",
            "             ^^^^^^^^^^^\n",
            "  File \"/usr/lib/python3/dist-packages/compose/cli/docker_client.py\", line 41, in get_client\n",
            "    client = docker_client(\n",
            "             ^^^^^^^^^^^^^^\n",
            "  File \"/usr/lib/python3/dist-packages/compose/cli/docker_client.py\", line 170, in docker_client\n",
            "    client = APIClient(use_ssh_client=not use_paramiko_ssh, **kwargs)\n",
            "             ^^^^^^^^^^^^^^^^^^^^^^^^^^^^^^^^^^^^^^^^^^^^^^^^^^^^^^^^\n",
            "  File \"/usr/local/lib/python3.11/dist-packages/docker/api/client.py\", line 197, in __init__\n",
            "    self._version = self._retrieve_server_version()\n",
            "                    ^^^^^^^^^^^^^^^^^^^^^^^^^^^^^^^\n",
            "  File \"/usr/local/lib/python3.11/dist-packages/docker/api/client.py\", line 221, in _retrieve_server_version\n",
            "    raise DockerException(\n",
            "docker.errors.DockerException: Error while fetching server API version: Not supported URL scheme http+docker\n"
          ]
        }
      ]
    },
    {
      "cell_type": "markdown",
      "metadata": {
        "id": "510b92a8"
      },
      "source": [
        "## Set up auto-retraining\n",
        "\n",
        "### Subtask:\n",
        "Implement a mechanism to automatically retrain the model periodically or when new data is available.\n"
      ]
    },
    {
      "cell_type": "markdown",
      "metadata": {
        "id": "28f29d72"
      },
      "source": [
        "**Reasoning**:\n",
        "Create a Python script for model retraining and save it to a file.\n",
        "\n"
      ]
    },
    {
      "cell_type": "code",
      "metadata": {
        "colab": {
          "base_uri": "https://localhost:8080/"
        },
        "id": "27616bbd",
        "outputId": "44e14e9a-d4ce-43a7-9eea-f2a4fef8fb49"
      },
      "source": [
        "%%writefile retrain_script.py\n",
        "import pandas as pd\n",
        "import numpy as np\n",
        "import joblib\n",
        "import mlflow\n",
        "import wandb\n",
        "import os\n",
        "from sklearn.model_selection import train_test_split\n",
        "from sklearn.ensemble import RandomForestRegressor\n",
        "from sklearn.metrics import mean_absolute_error, mean_squared_error, r2_score\n",
        "\n",
        "# Initialize Wandb\n",
        "wandb.init(project=\"airbnb-price-prediction-retrain\", reinit=True)\n",
        "\n",
        "# Load the latest data (assuming the data file is updated)\n",
        "try:\n",
        "    df = pd.read_csv('airbnb_listings.csv')\n",
        "except FileNotFoundError:\n",
        "    print(\"Error: airbnb_listings.csv not found. Cannot retrain.\")\n",
        "    exit()\n",
        "\n",
        "# Select relevant features\n",
        "features = ['price', 'bedrooms', 'bathrooms', 'number_of_reviews', 'review_scores_rating', 'latitude', 'longitude', 'property_type', 'room_type', 'beds']\n",
        "df = df[features]\n",
        "\n",
        "# Handle missing values\n",
        "for col in ['bedrooms', 'bathrooms', 'review_scores_rating', 'beds']:\n",
        "    df[col].fillna(df[col].median(), inplace=True)\n",
        "\n",
        "# Feature Engineering (recreate the same features)\n",
        "df['location'] = df['latitude'].astype(str) + ',' + df['longitude'].astype(str)\n",
        "\n",
        "# Encode categorical variables using one-hot encoding\n",
        "categorical_features = ['property_type', 'room_type']\n",
        "df = pd.get_dummies(df, columns=categorical_features, drop_first=True)\n",
        "\n",
        "# Define features (X) and target (y)\n",
        "X = df.drop(['price', 'latitude', 'longitude', 'location'], axis=1)\n",
        "y = df['price']\n",
        "\n",
        "# Split data into training and testing sets\n",
        "X_train, X_test, y_train, y_test = train_test_split(X, y, test_size=0.2, random_state=42)\n",
        "\n",
        "# Start an MLflow run\n",
        "with mlflow.start_run(run_name=\"retraining_run\"):\n",
        "    # Define and train the model\n",
        "    model = RandomForestRegressor(n_estimators=100, random_state=42)\n",
        "    model.fit(X_train, y_train)\n",
        "\n",
        "    # Log hyperparameters to MLflow and Wandb\n",
        "    params = model.get_params()\n",
        "    mlflow.log_params(params)\n",
        "    wandb.config.update(params)\n",
        "\n",
        "    # Make predictions and calculate metrics\n",
        "    y_pred = model.predict(X_test)\n",
        "    mae = mean_absolute_error(y_test, y_pred)\n",
        "    mse = mean_squared_error(y_test, y_pred)\n",
        "    r2 = r2_score(y_test, y_pred)\n",
        "\n",
        "    # Log evaluation metrics to MLflow and Wandb\n",
        "    mlflow.log_metric(\"mae\", mae)\n",
        "    mlflow.log_metric(\"mse\", mse)\n",
        "    mlflow.log_metric(\"r2\", r2)\n",
        "    wandb.log({\"mae\": mae, \"mse\": mse, \"r2\": r2})\n",
        "\n",
        "\n",
        "    # Log the trained model to MLflow\n",
        "    mlflow.sklearn.log_model(model, \"retrained_random_forest_model\")\n",
        "\n",
        "    # Save the retrained model to a file\n",
        "    model_path = \"random_forest_model.joblib\"\n",
        "    joblib.dump(model, model_path)\n",
        "\n",
        "    # Log the model as a Wandb artifact\n",
        "    artifact = wandb.Artifact(\"random-forest-model\", type=\"model\")\n",
        "    artifact.add_file(model_path)\n",
        "    wandb.log_artifact(artifact)\n",
        "\n",
        "\n",
        "print(\"Model retraining script completed.\")\n",
        "\n",
        "# End the Wandb run\n",
        "wandb.finish()"
      ],
      "execution_count": 35,
      "outputs": [
        {
          "output_type": "stream",
          "name": "stdout",
          "text": [
            "Writing retrain_script.py\n"
          ]
        }
      ]
    },
    {
      "cell_type": "markdown",
      "metadata": {
        "id": "22595076"
      },
      "source": [
        "## Summary:\n",
        "\n",
        "### Data Analysis Key Findings\n",
        "\n",
        "*   The initial attempt to train the model failed because a string column ('location') was included in the features; this was resolved by dropping the column.\n",
        "*   The trained model achieved a low R-squared score of -0.04, indicating poor performance on the test set.\n",
        "*   Both MLflow and Wandb were successfully configured to track model training experiments, logging hyperparameters and evaluation metrics.\n",
        "*   A Gradio interface was successfully created and launched to allow users to interact with the trained model for inference, requiring the model to be saved and loaded from a file.\n",
        "*   A Dockerfile was successfully created to containerize the application.\n",
        "*   Attempts to orchestrate the application using Docker Compose failed due to environment issues related to `docker-compose` installation and compatibility.\n",
        "*   A Python script (`retrain_script.py`) was successfully created to handle the logic for automated model retraining, including data processing, training, evaluation, and logging with MLflow and Wandb.\n",
        "\n",
        "### Insights or Next Steps\n",
        "\n",
        "*   Investigate the poor model performance (R-squared of -0.04) by exploring alternative models, feature engineering techniques, or hyperparameter tuning to improve predictive accuracy.\n",
        "*   Address the Docker Compose orchestration issues by ensuring a compatible Docker environment and correctly configuring `docker-compose` and the Docker Python library.\n"
      ]
    },
    {
      "cell_type": "code",
      "metadata": {
        "id": "f3f981a6"
      },
      "source": [
        "!git add .\n",
        "!git commit -m \"Add project files\""
      ],
      "execution_count": null,
      "outputs": []
    }
  ]
}